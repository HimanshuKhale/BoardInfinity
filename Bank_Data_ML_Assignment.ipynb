{
  "nbformat": 4,
  "nbformat_minor": 0,
  "metadata": {
    "kernelspec": {
      "display_name": "Python 3",
      "language": "python",
      "name": "python3"
    },
    "language_info": {
      "codemirror_mode": {
        "name": "ipython",
        "version": 3
      },
      "file_extension": ".py",
      "mimetype": "text/x-python",
      "name": "python",
      "nbconvert_exporter": "python",
      "pygments_lexer": "ipython3",
      "version": "3.8.5"
    },
    "colab": {
      "name": "Bank Data ML Assignment.ipynb",
      "provenance": [],
      "include_colab_link": true
    }
  },
  "cells": [
    {
      "cell_type": "markdown",
      "metadata": {
        "id": "view-in-github",
        "colab_type": "text"
      },
      "source": [
        "<a href=\"https://colab.research.google.com/github/HimanshuKhale/BoardInfinity/blob/main/Bank_Data_ML_Assignment.ipynb\" target=\"_parent\"><img src=\"https://colab.research.google.com/assets/colab-badge.svg\" alt=\"Open In Colab\"/></a>"
      ]
    },
    {
      "cell_type": "code",
      "metadata": {
        "id": "VPFOKuPj9sRq"
      },
      "source": [
        "import numpy as np\n",
        "import pandas as pd\n",
        "import matplotlib.pyplot as plt\n",
        "import seaborn as sns\n",
        "%matplotlib inline"
      ],
      "execution_count": 4,
      "outputs": []
    },
    {
      "cell_type": "code",
      "metadata": {
        "colab": {
          "base_uri": "https://localhost:8080/",
          "height": 215
        },
        "id": "zNJByQsT9sRv",
        "outputId": "81709760-f4e7-4ec5-8b83-7233ca71e4cd"
      },
      "source": [
        "raw_data = pd.read_csv(\"bank-marketing.csv\")\n",
        "raw_data.head()"
      ],
      "execution_count": 5,
      "outputs": [
        {
          "output_type": "execute_result",
          "data": {
            "text/html": [
              "<div>\n",
              "<style scoped>\n",
              "    .dataframe tbody tr th:only-of-type {\n",
              "        vertical-align: middle;\n",
              "    }\n",
              "\n",
              "    .dataframe tbody tr th {\n",
              "        vertical-align: top;\n",
              "    }\n",
              "\n",
              "    .dataframe thead th {\n",
              "        text-align: right;\n",
              "    }\n",
              "</style>\n",
              "<table border=\"1\" class=\"dataframe\">\n",
              "  <thead>\n",
              "    <tr style=\"text-align: right;\">\n",
              "      <th></th>\n",
              "      <th>age</th>\n",
              "      <th>job</th>\n",
              "      <th>salary</th>\n",
              "      <th>marital</th>\n",
              "      <th>education</th>\n",
              "      <th>targeted</th>\n",
              "      <th>default</th>\n",
              "      <th>balance</th>\n",
              "      <th>housing</th>\n",
              "      <th>loan</th>\n",
              "      <th>contact</th>\n",
              "      <th>day</th>\n",
              "      <th>month</th>\n",
              "      <th>duration</th>\n",
              "      <th>campaign</th>\n",
              "      <th>pdays</th>\n",
              "      <th>previous</th>\n",
              "      <th>poutcome</th>\n",
              "      <th>response</th>\n",
              "    </tr>\n",
              "  </thead>\n",
              "  <tbody>\n",
              "    <tr>\n",
              "      <th>0</th>\n",
              "      <td>58</td>\n",
              "      <td>management</td>\n",
              "      <td>100000</td>\n",
              "      <td>married</td>\n",
              "      <td>tertiary</td>\n",
              "      <td>yes</td>\n",
              "      <td>no</td>\n",
              "      <td>2143</td>\n",
              "      <td>yes</td>\n",
              "      <td>no</td>\n",
              "      <td>unknown</td>\n",
              "      <td>5</td>\n",
              "      <td>may</td>\n",
              "      <td>261</td>\n",
              "      <td>1</td>\n",
              "      <td>-1</td>\n",
              "      <td>0</td>\n",
              "      <td>unknown</td>\n",
              "      <td>no</td>\n",
              "    </tr>\n",
              "    <tr>\n",
              "      <th>1</th>\n",
              "      <td>44</td>\n",
              "      <td>technician</td>\n",
              "      <td>60000</td>\n",
              "      <td>single</td>\n",
              "      <td>secondary</td>\n",
              "      <td>yes</td>\n",
              "      <td>no</td>\n",
              "      <td>29</td>\n",
              "      <td>yes</td>\n",
              "      <td>no</td>\n",
              "      <td>unknown</td>\n",
              "      <td>5</td>\n",
              "      <td>may</td>\n",
              "      <td>151</td>\n",
              "      <td>1</td>\n",
              "      <td>-1</td>\n",
              "      <td>0</td>\n",
              "      <td>unknown</td>\n",
              "      <td>no</td>\n",
              "    </tr>\n",
              "    <tr>\n",
              "      <th>2</th>\n",
              "      <td>33</td>\n",
              "      <td>entrepreneur</td>\n",
              "      <td>120000</td>\n",
              "      <td>married</td>\n",
              "      <td>secondary</td>\n",
              "      <td>yes</td>\n",
              "      <td>no</td>\n",
              "      <td>2</td>\n",
              "      <td>yes</td>\n",
              "      <td>yes</td>\n",
              "      <td>unknown</td>\n",
              "      <td>5</td>\n",
              "      <td>may</td>\n",
              "      <td>76</td>\n",
              "      <td>1</td>\n",
              "      <td>-1</td>\n",
              "      <td>0</td>\n",
              "      <td>unknown</td>\n",
              "      <td>no</td>\n",
              "    </tr>\n",
              "    <tr>\n",
              "      <th>3</th>\n",
              "      <td>47</td>\n",
              "      <td>blue-collar</td>\n",
              "      <td>20000</td>\n",
              "      <td>married</td>\n",
              "      <td>unknown</td>\n",
              "      <td>no</td>\n",
              "      <td>no</td>\n",
              "      <td>1506</td>\n",
              "      <td>yes</td>\n",
              "      <td>no</td>\n",
              "      <td>unknown</td>\n",
              "      <td>5</td>\n",
              "      <td>may</td>\n",
              "      <td>92</td>\n",
              "      <td>1</td>\n",
              "      <td>-1</td>\n",
              "      <td>0</td>\n",
              "      <td>unknown</td>\n",
              "      <td>no</td>\n",
              "    </tr>\n",
              "    <tr>\n",
              "      <th>4</th>\n",
              "      <td>33</td>\n",
              "      <td>unknown</td>\n",
              "      <td>0</td>\n",
              "      <td>single</td>\n",
              "      <td>unknown</td>\n",
              "      <td>no</td>\n",
              "      <td>no</td>\n",
              "      <td>1</td>\n",
              "      <td>no</td>\n",
              "      <td>no</td>\n",
              "      <td>unknown</td>\n",
              "      <td>5</td>\n",
              "      <td>may</td>\n",
              "      <td>198</td>\n",
              "      <td>1</td>\n",
              "      <td>-1</td>\n",
              "      <td>0</td>\n",
              "      <td>unknown</td>\n",
              "      <td>no</td>\n",
              "    </tr>\n",
              "  </tbody>\n",
              "</table>\n",
              "</div>"
            ],
            "text/plain": [
              "   age           job  salary  marital  ... pdays previous poutcome  response\n",
              "0   58    management  100000  married  ...    -1        0  unknown        no\n",
              "1   44    technician   60000   single  ...    -1        0  unknown        no\n",
              "2   33  entrepreneur  120000  married  ...    -1        0  unknown        no\n",
              "3   47   blue-collar   20000  married  ...    -1        0  unknown        no\n",
              "4   33       unknown       0   single  ...    -1        0  unknown        no\n",
              "\n",
              "[5 rows x 19 columns]"
            ]
          },
          "metadata": {
            "tags": []
          },
          "execution_count": 5
        }
      ]
    },
    {
      "cell_type": "code",
      "metadata": {
        "colab": {
          "base_uri": "https://localhost:8080/"
        },
        "id": "TsI9ZrBd9sRy",
        "outputId": "64899e45-db18-4c0c-b917-cbad914d0c28"
      },
      "source": [
        "raw_data.info()"
      ],
      "execution_count": 6,
      "outputs": [
        {
          "output_type": "stream",
          "text": [
            "<class 'pandas.core.frame.DataFrame'>\n",
            "RangeIndex: 45211 entries, 0 to 45210\n",
            "Data columns (total 19 columns):\n",
            " #   Column     Non-Null Count  Dtype \n",
            "---  ------     --------------  ----- \n",
            " 0   age        45211 non-null  int64 \n",
            " 1   job        45211 non-null  object\n",
            " 2   salary     45211 non-null  int64 \n",
            " 3   marital    45211 non-null  object\n",
            " 4   education  45211 non-null  object\n",
            " 5   targeted   45211 non-null  object\n",
            " 6   default    45211 non-null  object\n",
            " 7   balance    45211 non-null  int64 \n",
            " 8   housing    45211 non-null  object\n",
            " 9   loan       45211 non-null  object\n",
            " 10  contact    45211 non-null  object\n",
            " 11  day        45211 non-null  int64 \n",
            " 12  month      45211 non-null  object\n",
            " 13  duration   45211 non-null  int64 \n",
            " 14  campaign   45211 non-null  int64 \n",
            " 15  pdays      45211 non-null  int64 \n",
            " 16  previous   45211 non-null  int64 \n",
            " 17  poutcome   45211 non-null  object\n",
            " 18  response   45211 non-null  object\n",
            "dtypes: int64(8), object(11)\n",
            "memory usage: 6.6+ MB\n"
          ],
          "name": "stdout"
        }
      ]
    },
    {
      "cell_type": "markdown",
      "metadata": {
        "id": "KK94L1Lz9sR0"
      },
      "source": [
        "No missing values"
      ]
    },
    {
      "cell_type": "code",
      "metadata": {
        "colab": {
          "base_uri": "https://localhost:8080/",
          "height": 284
        },
        "id": "pQFWO2bD9sR2",
        "outputId": "d8197e46-43de-4134-8217-31e4087a37e3"
      },
      "source": [
        "raw_data.describe()"
      ],
      "execution_count": 7,
      "outputs": [
        {
          "output_type": "execute_result",
          "data": {
            "text/html": [
              "<div>\n",
              "<style scoped>\n",
              "    .dataframe tbody tr th:only-of-type {\n",
              "        vertical-align: middle;\n",
              "    }\n",
              "\n",
              "    .dataframe tbody tr th {\n",
              "        vertical-align: top;\n",
              "    }\n",
              "\n",
              "    .dataframe thead th {\n",
              "        text-align: right;\n",
              "    }\n",
              "</style>\n",
              "<table border=\"1\" class=\"dataframe\">\n",
              "  <thead>\n",
              "    <tr style=\"text-align: right;\">\n",
              "      <th></th>\n",
              "      <th>age</th>\n",
              "      <th>salary</th>\n",
              "      <th>balance</th>\n",
              "      <th>day</th>\n",
              "      <th>duration</th>\n",
              "      <th>campaign</th>\n",
              "      <th>pdays</th>\n",
              "      <th>previous</th>\n",
              "    </tr>\n",
              "  </thead>\n",
              "  <tbody>\n",
              "    <tr>\n",
              "      <th>count</th>\n",
              "      <td>45211.000000</td>\n",
              "      <td>45211.000000</td>\n",
              "      <td>45211.000000</td>\n",
              "      <td>45211.000000</td>\n",
              "      <td>45211.000000</td>\n",
              "      <td>45211.000000</td>\n",
              "      <td>45211.000000</td>\n",
              "      <td>45211.000000</td>\n",
              "    </tr>\n",
              "    <tr>\n",
              "      <th>mean</th>\n",
              "      <td>40.936210</td>\n",
              "      <td>57006.171065</td>\n",
              "      <td>1362.272058</td>\n",
              "      <td>15.806419</td>\n",
              "      <td>258.163080</td>\n",
              "      <td>2.763841</td>\n",
              "      <td>40.197828</td>\n",
              "      <td>0.580323</td>\n",
              "    </tr>\n",
              "    <tr>\n",
              "      <th>std</th>\n",
              "      <td>10.618762</td>\n",
              "      <td>32085.718415</td>\n",
              "      <td>3044.765829</td>\n",
              "      <td>8.322476</td>\n",
              "      <td>257.527812</td>\n",
              "      <td>3.098021</td>\n",
              "      <td>100.128746</td>\n",
              "      <td>2.303441</td>\n",
              "    </tr>\n",
              "    <tr>\n",
              "      <th>min</th>\n",
              "      <td>18.000000</td>\n",
              "      <td>0.000000</td>\n",
              "      <td>-8019.000000</td>\n",
              "      <td>1.000000</td>\n",
              "      <td>0.000000</td>\n",
              "      <td>1.000000</td>\n",
              "      <td>-1.000000</td>\n",
              "      <td>0.000000</td>\n",
              "    </tr>\n",
              "    <tr>\n",
              "      <th>25%</th>\n",
              "      <td>33.000000</td>\n",
              "      <td>20000.000000</td>\n",
              "      <td>72.000000</td>\n",
              "      <td>8.000000</td>\n",
              "      <td>103.000000</td>\n",
              "      <td>1.000000</td>\n",
              "      <td>-1.000000</td>\n",
              "      <td>0.000000</td>\n",
              "    </tr>\n",
              "    <tr>\n",
              "      <th>50%</th>\n",
              "      <td>39.000000</td>\n",
              "      <td>60000.000000</td>\n",
              "      <td>448.000000</td>\n",
              "      <td>16.000000</td>\n",
              "      <td>180.000000</td>\n",
              "      <td>2.000000</td>\n",
              "      <td>-1.000000</td>\n",
              "      <td>0.000000</td>\n",
              "    </tr>\n",
              "    <tr>\n",
              "      <th>75%</th>\n",
              "      <td>48.000000</td>\n",
              "      <td>70000.000000</td>\n",
              "      <td>1428.000000</td>\n",
              "      <td>21.000000</td>\n",
              "      <td>319.000000</td>\n",
              "      <td>3.000000</td>\n",
              "      <td>-1.000000</td>\n",
              "      <td>0.000000</td>\n",
              "    </tr>\n",
              "    <tr>\n",
              "      <th>max</th>\n",
              "      <td>95.000000</td>\n",
              "      <td>120000.000000</td>\n",
              "      <td>102127.000000</td>\n",
              "      <td>31.000000</td>\n",
              "      <td>4918.000000</td>\n",
              "      <td>63.000000</td>\n",
              "      <td>871.000000</td>\n",
              "      <td>275.000000</td>\n",
              "    </tr>\n",
              "  </tbody>\n",
              "</table>\n",
              "</div>"
            ],
            "text/plain": [
              "                age         salary  ...         pdays      previous\n",
              "count  45211.000000   45211.000000  ...  45211.000000  45211.000000\n",
              "mean      40.936210   57006.171065  ...     40.197828      0.580323\n",
              "std       10.618762   32085.718415  ...    100.128746      2.303441\n",
              "min       18.000000       0.000000  ...     -1.000000      0.000000\n",
              "25%       33.000000   20000.000000  ...     -1.000000      0.000000\n",
              "50%       39.000000   60000.000000  ...     -1.000000      0.000000\n",
              "75%       48.000000   70000.000000  ...     -1.000000      0.000000\n",
              "max       95.000000  120000.000000  ...    871.000000    275.000000\n",
              "\n",
              "[8 rows x 8 columns]"
            ]
          },
          "metadata": {
            "tags": []
          },
          "execution_count": 7
        }
      ]
    },
    {
      "cell_type": "markdown",
      "metadata": {
        "id": "dhtpTUmg9sR3"
      },
      "source": [
        "Describe the pdays column, make note of the mean, median and minimum values. Anything fishy in the values?"
      ]
    },
    {
      "cell_type": "code",
      "metadata": {
        "colab": {
          "base_uri": "https://localhost:8080/"
        },
        "id": "sUNg1BBM9sR4",
        "outputId": "12ed29eb-fbee-4cf0-b5c3-4d9f6e37174b"
      },
      "source": [
        "raw_data.pdays.describe()"
      ],
      "execution_count": 8,
      "outputs": [
        {
          "output_type": "execute_result",
          "data": {
            "text/plain": [
              "count    45211.000000\n",
              "mean        40.197828\n",
              "std        100.128746\n",
              "min         -1.000000\n",
              "25%         -1.000000\n",
              "50%         -1.000000\n",
              "75%         -1.000000\n",
              "max        871.000000\n",
              "Name: pdays, dtype: float64"
            ]
          },
          "metadata": {
            "tags": []
          },
          "execution_count": 8
        }
      ]
    },
    {
      "cell_type": "code",
      "metadata": {
        "colab": {
          "base_uri": "https://localhost:8080/"
        },
        "id": "6ZFqriGc9sR6",
        "outputId": "e56138d6-1386-4020-aefd-956a62b95e1f"
      },
      "source": [
        "print(\"The mean is {},  median is {}, and mode is {}\" .format(raw_data.pdays.mean(), raw_data.pdays.median(), raw_data.pdays.mode()))"
      ],
      "execution_count": 9,
      "outputs": [
        {
          "output_type": "stream",
          "text": [
            "The mean is 40.19782796222158,  median is -1.0, and mode is 0   -1\n",
            "dtype: int64\n"
          ],
          "name": "stdout"
        }
      ]
    },
    {
      "cell_type": "markdown",
      "metadata": {
        "id": "hGSGgqki9sR7"
      },
      "source": [
        "We are observing -1 as a recurring value, which is not ideal. -1 can be the boolean for those who are new and have not been in the campaign yet. "
      ]
    },
    {
      "cell_type": "markdown",
      "metadata": {
        "id": "SDeRUYX09sR8"
      },
      "source": [
        "Describe the pdays column again, this time limiting yourself to the relevant values of pdays. How different are the mean and the median values"
      ]
    },
    {
      "cell_type": "markdown",
      "metadata": {
        "id": "xxSwRQgg9sR9"
      },
      "source": [
        "Since we are consindering -1 not as a value i.e. integer, but as a boolean i.e. indicator. We will replace these values with NaN. "
      ]
    },
    {
      "cell_type": "code",
      "metadata": {
        "id": "fAuc_e7_9sR-"
      },
      "source": [
        "bank_data = raw_data.copy()"
      ],
      "execution_count": 10,
      "outputs": []
    },
    {
      "cell_type": "code",
      "metadata": {
        "id": "S4TM9rb99sSC"
      },
      "source": [
        "bank_data.drop(bank_data[bank_data['pdays'] < 0].index, inplace = True) "
      ],
      "execution_count": 11,
      "outputs": []
    },
    {
      "cell_type": "code",
      "metadata": {
        "colab": {
          "base_uri": "https://localhost:8080/"
        },
        "id": "Vb5Ksyjx9sSD",
        "outputId": "9012b90b-3134-4c5b-c0e0-26e60871820f"
      },
      "source": [
        "bank_data.pdays.describe()"
      ],
      "execution_count": 12,
      "outputs": [
        {
          "output_type": "execute_result",
          "data": {
            "text/plain": [
              "count    8257.000000\n",
              "mean      224.577692\n",
              "std       115.344035\n",
              "min         1.000000\n",
              "25%       133.000000\n",
              "50%       194.000000\n",
              "75%       327.000000\n",
              "max       871.000000\n",
              "Name: pdays, dtype: float64"
            ]
          },
          "metadata": {
            "tags": []
          },
          "execution_count": 12
        }
      ]
    },
    {
      "cell_type": "code",
      "metadata": {
        "colab": {
          "base_uri": "https://localhost:8080/"
        },
        "id": "idoT3XKM9sSE",
        "outputId": "695cbd8d-04f7-43d5-c111-b7543d8addf4"
      },
      "source": [
        "print(\"The mean is {},  median is {}, and mode is {}\" .format(bank_data.pdays.mean(), bank_data.pdays.median(), bank_data.pdays.mode()))"
      ],
      "execution_count": 13,
      "outputs": [
        {
          "output_type": "stream",
          "text": [
            "The mean is 224.57769165556496,  median is 194.0, and mode is 0    182\n",
            "dtype: int64\n"
          ],
          "name": "stdout"
        }
      ]
    },
    {
      "cell_type": "markdown",
      "metadata": {
        "id": "Srtyik599sSF"
      },
      "source": [
        "After removing the new participants from our calculations, we see that there is a significant change in pdays's central tendancies. "
      ]
    },
    {
      "cell_type": "markdown",
      "metadata": {
        "id": "96t0mweR9sSG"
      },
      "source": [
        "Plot a horizontal bar graph with the median values of balance for each education level value. Which group has the highest median"
      ]
    },
    {
      "cell_type": "code",
      "metadata": {
        "colab": {
          "base_uri": "https://localhost:8080/",
          "height": 282
        },
        "id": "5OjvX6Tw9sSG",
        "outputId": "e44a26f4-b7b3-43fc-b139-0be2afc6129b"
      },
      "source": [
        "bank_data.groupby(['education'])['balance'].median().plot.barh()\n"
      ],
      "execution_count": 14,
      "outputs": [
        {
          "output_type": "execute_result",
          "data": {
            "text/plain": [
              "<matplotlib.axes._subplots.AxesSubplot at 0x7f2a33138610>"
            ]
          },
          "metadata": {
            "tags": []
          },
          "execution_count": 14
        },
        {
          "output_type": "display_data",
          "data": {
            "image/png": "[encoded data removed]",
            "text/plain": [
              "<Figure size 432x288 with 1 Axes>"
            ]
          },
          "metadata": {
            "tags": [],
            "needs_background": "light"
          }
        }
      ]
    },
    {
      "cell_type": "markdown",
      "metadata": {
        "id": "1zTdS2Xl9sSH"
      },
      "source": [
        "An observation can be made that the balance for participants with tertiary eduction level is highest. "
      ]
    },
    {
      "cell_type": "markdown",
      "metadata": {
        "id": "if8ZYEhI9sSI"
      },
      "source": [
        "#### Make a box plot for pdays. Do you see any outliers?"
      ]
    },
    {
      "cell_type": "code",
      "metadata": {
        "colab": {
          "base_uri": "https://localhost:8080/",
          "height": 265
        },
        "id": "MTe7Nv2k9sSI",
        "outputId": "7d2d97d6-ed86-4ba4-b85a-b9f3d10bccc8"
      },
      "source": [
        "bank_data.pdays.plot.box()\n",
        "plt.show()"
      ],
      "execution_count": 15,
      "outputs": [
        {
          "output_type": "display_data",
          "data": {
            "image/png": "[encoded data removed]",
            "text/plain": [
              "<Figure size 432x288 with 1 Axes>"
            ]
          },
          "metadata": {
            "tags": [],
            "needs_background": "light"
          }
        }
      ]
    },
    {
      "cell_type": "markdown",
      "metadata": {
        "id": "wZfeZ-GV9sSJ"
      },
      "source": [
        "We can make an observation from the above figure that there are outliers in the data. "
      ]
    },
    {
      "cell_type": "markdown",
      "metadata": {
        "id": "yZRf_3un9sSJ"
      },
      "source": [
        "### Bi-variate Analysis"
      ]
    },
    {
      "cell_type": "code",
      "metadata": {
        "colab": {
          "base_uri": "https://localhost:8080/"
        },
        "id": "EREY8SuT9sSK",
        "outputId": "fc866e8f-dc35-4282-adbd-d031d0a68b6a"
      },
      "source": [
        "\n",
        "bank_data.response.value_counts(normalize=True)\n",
        "\n",
        "bank_data.replace({'response': {\"yes\": 1,'no':0}},inplace=True)\n",
        "\n",
        "bank_data.response.value_counts()"
      ],
      "execution_count": 16,
      "outputs": [
        {
          "output_type": "execute_result",
          "data": {
            "text/plain": [
              "0    6352\n",
              "1    1905\n",
              "Name: response, dtype: int64"
            ]
          },
          "metadata": {
            "tags": []
          },
          "execution_count": 16
        }
      ]
    },
    {
      "cell_type": "code",
      "metadata": {
        "colab": {
          "base_uri": "https://localhost:8080/"
        },
        "id": "BysO4RRQ9sSK",
        "outputId": "5b01631a-a906-4b08-cffb-ca6b53700084"
      },
      "source": [
        "obj_col = []\n",
        "num_col = []\n",
        "for col in bank_data.columns:\n",
        "    if bank_data[col].dtype=='O':\n",
        "        obj_col.append(col)\n",
        "    else:\n",
        "        num_col.append(col)\n",
        "\n",
        "print(\"Object data type features \",obj_col)\n",
        "print(\"Numerical data type features \",num_col)"
      ],
      "execution_count": 17,
      "outputs": [
        {
          "output_type": "stream",
          "text": [
            "Object data type features  ['job', 'marital', 'education', 'targeted', 'default', 'housing', 'loan', 'contact', 'month', 'poutcome']\n",
            "Numerical data type features  ['age', 'salary', 'balance', 'day', 'duration', 'campaign', 'pdays', 'previous', 'response']\n"
          ],
          "name": "stdout"
        }
      ]
    },
    {
      "cell_type": "code",
      "metadata": {
        "colab": {
          "base_uri": "https://localhost:8080/",
          "height": 0
        },
        "id": "SnhIMtVK9sSL",
        "outputId": "297797b0-2ab5-4399-d9b0-c951f282e582"
      },
      "source": [
        "from numpy import median\n",
        "for col in obj_col[1:]:\n",
        "    plt.figure(figsize=(8,6))\n",
        "    sns.violinplot(bank_data[col],bank_data[\"response\"])\n",
        "    plt.title(\"Response vs \"+col,fontsize=15)\n",
        "    plt.xlabel(col,fontsize=10)\n",
        "    plt.ylabel(\"Response\",fontsize=10)\n",
        "    plt.show()"
      ],
      "execution_count": 18,
      "outputs": [
        {
          "output_type": "stream",
          "text": [
            "/usr/local/lib/python3.7/dist-packages/seaborn/_decorators.py:43: FutureWarning: Pass the following variables as keyword args: x, y. From version 0.12, the only valid positional argument will be `data`, and passing other arguments without an explicit keyword will result in an error or misinterpretation.\n",
            "  FutureWarning\n"
          ],
          "name": "stderr"
        },
        {
          "output_type": "display_data",
          "data": {
            "image/png": "[encoded data removed]",
            "text/plain": [
              "<Figure size 576x432 with 1 Axes>"
            ]
          },
          "metadata": {
            "tags": [],
            "needs_background": "light"
          }
        },
        {
          "output_type": "stream",
          "text": [
            "/usr/local/lib/python3.7/dist-packages/seaborn/_decorators.py:43: FutureWarning: Pass the following variables as keyword args: x, y. From version 0.12, the only valid positional argument will be `data`, and passing other arguments without an explicit keyword will result in an error or misinterpretation.\n",
            "  FutureWarning\n"
          ],
          "name": "stderr"
        },
        {
          "output_type": "display_data",
          "data": {
            "image/png": "[encoded data removed]",
            "text/plain": [
              "<Figure size 576x432 with 1 Axes>"
            ]
          },
          "metadata": {
            "tags": [],
            "needs_background": "light"
          }
        },
        {
          "output_type": "stream",
          "text": [
            "/usr/local/lib/python3.7/dist-packages/seaborn/_decorators.py:43: FutureWarning: Pass the following variables as keyword args: x, y. From version 0.12, the only valid positional argument will be `data`, and passing other arguments without an explicit keyword will result in an error or misinterpretation.\n",
            "  FutureWarning\n"
          ],
          "name": "stderr"
        },
        {
          "output_type": "display_data",
          "data": {
            "image/png": "[encoded data removed]",
            "text/plain": [
              "<Figure size 576x432 with 1 Axes>"
            ]
          },
          "metadata": {
            "tags": [],
            "needs_background": "light"
          }
        },
        {
          "output_type": "stream",
          "text": [
            "/usr/local/lib/python3.7/dist-packages/seaborn/_decorators.py:43: FutureWarning: Pass the following variables as keyword args: x, y. From version 0.12, the only valid positional argument will be `data`, and passing other arguments without an explicit keyword will result in an error or misinterpretation.\n",
            "  FutureWarning\n"
          ],
          "name": "stderr"
        },
        {
          "output_type": "display_data",
          "data": {
            "image/png": "[encoded data removed]",
            "text/plain": [
              "<Figure size 576x432 with 1 Axes>"
            ]
          },
          "metadata": {
            "tags": [],
            "needs_background": "light"
          }
        },
        {
          "output_type": "stream",
          "text": [
            "/usr/local/lib/python3.7/dist-packages/seaborn/_decorators.py:43: FutureWarning: Pass the following variables as keyword args: x, y. From version 0.12, the only valid positional argument will be `data`, and passing other arguments without an explicit keyword will result in an error or misinterpretation.\n",
            "  FutureWarning\n"
          ],
          "name": "stderr"
        },
        {
          "output_type": "display_data",
          "data": {
            "image/png": "[encoded data removed]",
            "text/plain": [
              "<Figure size 576x432 with 1 Axes>"
            ]
          },
          "metadata": {
            "tags": [],
            "needs_background": "light"
          }
        },
        {
          "output_type": "stream",
          "text": [
            "/usr/local/lib/python3.7/dist-packages/seaborn/_decorators.py:43: FutureWarning: Pass the following variables as keyword args: x, y. From version 0.12, the only valid positional argument will be `data`, and passing other arguments without an explicit keyword will result in an error or misinterpretation.\n",
            "  FutureWarning\n"
          ],
          "name": "stderr"
        },
        {
          "output_type": "display_data",
          "data": {
            "image/png": "[encoded data removed]",
            "text/plain": [
              "<Figure size 576x432 with 1 Axes>"
            ]
          },
          "metadata": {
            "tags": [],
            "needs_background": "light"
          }
        },
        {
          "output_type": "stream",
          "text": [
            "/usr/local/lib/python3.7/dist-packages/seaborn/_decorators.py:43: FutureWarning: Pass the following variables as keyword args: x, y. From version 0.12, the only valid positional argument will be `data`, and passing other arguments without an explicit keyword will result in an error or misinterpretation.\n",
            "  FutureWarning\n"
          ],
          "name": "stderr"
        },
        {
          "output_type": "display_data",
          "data": {
            "image/png": "[encoded data removed]",
            "text/plain": [
              "<Figure size 576x432 with 1 Axes>"
            ]
          },
          "metadata": {
            "tags": [],
            "needs_background": "light"
          }
        },
        {
          "output_type": "stream",
          "text": [
            "/usr/local/lib/python3.7/dist-packages/seaborn/_decorators.py:43: FutureWarning: Pass the following variables as keyword args: x, y. From version 0.12, the only valid positional argument will be `data`, and passing other arguments without an explicit keyword will result in an error or misinterpretation.\n",
            "  FutureWarning\n"
          ],
          "name": "stderr"
        },
        {
          "output_type": "display_data",
          "data": {
            "image/png": "[encoded data removed]",
            "text/plain": [
              "<Figure size 576x432 with 1 Axes>"
            ]
          },
          "metadata": {
            "tags": [],
            "needs_background": "light"
          }
        },
        {
          "output_type": "stream",
          "text": [
            "/usr/local/lib/python3.7/dist-packages/seaborn/_decorators.py:43: FutureWarning: Pass the following variables as keyword args: x, y. From version 0.12, the only valid positional argument will be `data`, and passing other arguments without an explicit keyword will result in an error or misinterpretation.\n",
            "  FutureWarning\n"
          ],
          "name": "stderr"
        },
        {
          "output_type": "display_data",
          "data": {
            "image/png": "[encoded data removed]",
            "text/plain": [
              "<Figure size 576x432 with 1 Axes>"
            ]
          },
          "metadata": {
            "tags": [],
            "needs_background": "light"
          }
        }
      ]
    },
    {
      "cell_type": "code",
      "metadata": {
        "colab": {
          "base_uri": "https://localhost:8080/",
          "height": 0
        },
        "id": "kgIReAWx9sSL",
        "outputId": "5299f97b-cbac-45f4-94cf-a8bb07ae8436"
      },
      "source": [
        "plt.figure(figsize=(8,6))\n",
        "sns.heatmap(bank_data.corr(),annot=True,cmap='RdBu_r')\n",
        "plt.title(\"Correlation Of Each Numerical Features\")\n",
        "plt.show()"
      ],
      "execution_count": 19,
      "outputs": [
        {
          "output_type": "display_data",
          "data": {
            "image/png": "[encoded data removed]",
            "text/plain": [
              "<Figure size 576x432 with 2 Axes>"
            ]
          },
          "metadata": {
            "tags": [],
            "needs_background": "light"
          }
        }
      ]
    },
    {
      "cell_type": "markdown",
      "metadata": {
        "id": "uJA_PnK-9sSM"
      },
      "source": [
        "We can make an observation that the response variable is negatively correlated with pdays variable and that too not very highly. "
      ]
    },
    {
      "cell_type": "code",
      "metadata": {
        "colab": {
          "base_uri": "https://localhost:8080/",
          "height": 0
        },
        "id": "cqclbcBE9sSM",
        "outputId": "519ba6ef-f6f5-4777-a2bd-3dac57e8c15d"
      },
      "source": [
        "for col in num_col[:-1]:\n",
        "    plt.figure(figsize=(10,8))\n",
        "    sns.jointplot(x = bank_data[col],y = bank_data[\"response\"],kind='reg')\n",
        "    plt.xlabel(col,fontsize = 15)\n",
        "    plt.ylabel(\"Response\",fontsize = 15)\n",
        "    plt.grid()\n",
        "    plt.show()"
      ],
      "execution_count": 20,
      "outputs": [
        {
          "output_type": "display_data",
          "data": {
            "text/plain": [
              "<Figure size 720x576 with 0 Axes>"
            ]
          },
          "metadata": {
            "tags": []
          }
        },
        {
          "output_type": "display_data",
          "data": {
            "image/png": "[encoded data removed]",
            "text/plain": [
              "<Figure size 432x432 with 3 Axes>"
            ]
          },
          "metadata": {
            "tags": [],
            "needs_background": "light"
          }
        },
        {
          "output_type": "display_data",
          "data": {
            "text/plain": [
              "<Figure size 720x576 with 0 Axes>"
            ]
          },
          "metadata": {
            "tags": []
          }
        },
        {
          "output_type": "display_data",
          "data": {
            "image/png": "[encoded data removed]",
            "text/plain": [
              "<Figure size 432x432 with 3 Axes>"
            ]
          },
          "metadata": {
            "tags": [],
            "needs_background": "light"
          }
        },
        {
          "output_type": "display_data",
          "data": {
            "text/plain": [
              "<Figure size 720x576 with 0 Axes>"
            ]
          },
          "metadata": {
            "tags": []
          }
        },
        {
          "output_type": "display_data",
          "data": {
            "image/png": "[encoded data removed]",
            "text/plain": [
              "<Figure size 432x432 with 3 Axes>"
            ]
          },
          "metadata": {
            "tags": [],
            "needs_background": "light"
          }
        },
        {
          "output_type": "display_data",
          "data": {
            "text/plain": [
              "<Figure size 720x576 with 0 Axes>"
            ]
          },
          "metadata": {
            "tags": []
          }
        },
        {
          "output_type": "display_data",
          "data": {
            "image/png": "[encoded data removed]",
            "text/plain": [
              "<Figure size 432x432 with 3 Axes>"
            ]
          },
          "metadata": {
            "tags": [],
            "needs_background": "light"
          }
        },
        {
          "output_type": "display_data",
          "data": {
            "text/plain": [
              "<Figure size 720x576 with 0 Axes>"
            ]
          },
          "metadata": {
            "tags": []
          }
        },
        {
          "output_type": "display_data",
          "data": {
            "image/png": "[encoded data removed]",
            "text/plain": [
              "<Figure size 432x432 with 3 Axes>"
            ]
          },
          "metadata": {
            "tags": [],
            "needs_background": "light"
          }
        },
        {
          "output_type": "display_data",
          "data": {
            "text/plain": [
              "<Figure size 720x576 with 0 Axes>"
            ]
          },
          "metadata": {
            "tags": []
          }
        },
        {
          "output_type": "display_data",
          "data": {
            "image/png": "[encoded data removed]",
            "text/plain": [
              "<Figure size 432x432 with 3 Axes>"
            ]
          },
          "metadata": {
            "tags": [],
            "needs_background": "light"
          }
        },
        {
          "output_type": "display_data",
          "data": {
            "text/plain": [
              "<Figure size 720x576 with 0 Axes>"
            ]
          },
          "metadata": {
            "tags": []
          }
        },
        {
          "output_type": "display_data",
          "data": {
            "image/png": "[encoded data removed]",
            "text/plain": [
              "<Figure size 432x432 with 3 Axes>"
            ]
          },
          "metadata": {
            "tags": [],
            "needs_background": "light"
          }
        },
        {
          "output_type": "display_data",
          "data": {
            "text/plain": [
              "<Figure size 720x576 with 0 Axes>"
            ]
          },
          "metadata": {
            "tags": []
          }
        },
        {
          "output_type": "display_data",
          "data": {
            "image/png": "[encoded data removed]",
            "text/plain": [
              "<Figure size 432x432 with 3 Axes>"
            ]
          },
          "metadata": {
            "tags": [],
            "needs_background": "light"
          }
        }
      ]
    },
    {
      "cell_type": "code",
      "metadata": {
        "colab": {
          "base_uri": "https://localhost:8080/",
          "height": 0
        },
        "id": "fvGatCl79sSM",
        "outputId": "58d7737c-5636-4b3a-ce7a-4b891ae1cca9"
      },
      "source": [
        "from sklearn.preprocessing import LabelEncoder\n",
        "\n",
        "bank_data2 = bank_data[obj_col].apply(LabelEncoder().fit_transform)\n",
        "\n",
        "bank_data2.head()"
      ],
      "execution_count": 21,
      "outputs": [
        {
          "output_type": "execute_result",
          "data": {
            "text/html": [
              "<div>\n",
              "<style scoped>\n",
              "    .dataframe tbody tr th:only-of-type {\n",
              "        vertical-align: middle;\n",
              "    }\n",
              "\n",
              "    .dataframe tbody tr th {\n",
              "        vertical-align: top;\n",
              "    }\n",
              "\n",
              "    .dataframe thead th {\n",
              "        text-align: right;\n",
              "    }\n",
              "</style>\n",
              "<table border=\"1\" class=\"dataframe\">\n",
              "  <thead>\n",
              "    <tr style=\"text-align: right;\">\n",
              "      <th></th>\n",
              "      <th>job</th>\n",
              "      <th>marital</th>\n",
              "      <th>education</th>\n",
              "      <th>targeted</th>\n",
              "      <th>default</th>\n",
              "      <th>housing</th>\n",
              "      <th>loan</th>\n",
              "      <th>contact</th>\n",
              "      <th>month</th>\n",
              "      <th>poutcome</th>\n",
              "    </tr>\n",
              "  </thead>\n",
              "  <tbody>\n",
              "    <tr>\n",
              "      <th>24060</th>\n",
              "      <td>0</td>\n",
              "      <td>1</td>\n",
              "      <td>2</td>\n",
              "      <td>1</td>\n",
              "      <td>0</td>\n",
              "      <td>0</td>\n",
              "      <td>0</td>\n",
              "      <td>1</td>\n",
              "      <td>10</td>\n",
              "      <td>0</td>\n",
              "    </tr>\n",
              "    <tr>\n",
              "      <th>24062</th>\n",
              "      <td>0</td>\n",
              "      <td>2</td>\n",
              "      <td>1</td>\n",
              "      <td>1</td>\n",
              "      <td>0</td>\n",
              "      <td>1</td>\n",
              "      <td>1</td>\n",
              "      <td>1</td>\n",
              "      <td>10</td>\n",
              "      <td>1</td>\n",
              "    </tr>\n",
              "    <tr>\n",
              "      <th>24064</th>\n",
              "      <td>7</td>\n",
              "      <td>1</td>\n",
              "      <td>1</td>\n",
              "      <td>1</td>\n",
              "      <td>0</td>\n",
              "      <td>1</td>\n",
              "      <td>0</td>\n",
              "      <td>1</td>\n",
              "      <td>10</td>\n",
              "      <td>0</td>\n",
              "    </tr>\n",
              "    <tr>\n",
              "      <th>24072</th>\n",
              "      <td>4</td>\n",
              "      <td>1</td>\n",
              "      <td>2</td>\n",
              "      <td>1</td>\n",
              "      <td>0</td>\n",
              "      <td>1</td>\n",
              "      <td>0</td>\n",
              "      <td>1</td>\n",
              "      <td>10</td>\n",
              "      <td>1</td>\n",
              "    </tr>\n",
              "    <tr>\n",
              "      <th>24077</th>\n",
              "      <td>4</td>\n",
              "      <td>1</td>\n",
              "      <td>2</td>\n",
              "      <td>1</td>\n",
              "      <td>0</td>\n",
              "      <td>1</td>\n",
              "      <td>0</td>\n",
              "      <td>1</td>\n",
              "      <td>10</td>\n",
              "      <td>0</td>\n",
              "    </tr>\n",
              "  </tbody>\n",
              "</table>\n",
              "</div>"
            ],
            "text/plain": [
              "       job  marital  education  targeted  ...  loan  contact  month  poutcome\n",
              "24060    0        1          2         1  ...     0        1     10         0\n",
              "24062    0        2          1         1  ...     1        1     10         1\n",
              "24064    7        1          1         1  ...     0        1     10         0\n",
              "24072    4        1          2         1  ...     0        1     10         1\n",
              "24077    4        1          2         1  ...     0        1     10         0\n",
              "\n",
              "[5 rows x 10 columns]"
            ]
          },
          "metadata": {
            "tags": []
          },
          "execution_count": 21
        }
      ]
    },
    {
      "cell_type": "code",
      "metadata": {
        "colab": {
          "base_uri": "https://localhost:8080/",
          "height": 0
        },
        "id": "TT_Jn_Pb9sSN",
        "outputId": "caaf1140-f917-4c76-c4aa-263639ad55cc"
      },
      "source": [
        "bank_data3 = bank_data2.join(bank_data[num_col])\n",
        "bank_data3.head()"
      ],
      "execution_count": 22,
      "outputs": [
        {
          "output_type": "execute_result",
          "data": {
            "text/html": [
              "<div>\n",
              "<style scoped>\n",
              "    .dataframe tbody tr th:only-of-type {\n",
              "        vertical-align: middle;\n",
              "    }\n",
              "\n",
              "    .dataframe tbody tr th {\n",
              "        vertical-align: top;\n",
              "    }\n",
              "\n",
              "    .dataframe thead th {\n",
              "        text-align: right;\n",
              "    }\n",
              "</style>\n",
              "<table border=\"1\" class=\"dataframe\">\n",
              "  <thead>\n",
              "    <tr style=\"text-align: right;\">\n",
              "      <th></th>\n",
              "      <th>job</th>\n",
              "      <th>marital</th>\n",
              "      <th>education</th>\n",
              "      <th>targeted</th>\n",
              "      <th>default</th>\n",
              "      <th>housing</th>\n",
              "      <th>loan</th>\n",
              "      <th>contact</th>\n",
              "      <th>month</th>\n",
              "      <th>poutcome</th>\n",
              "      <th>age</th>\n",
              "      <th>salary</th>\n",
              "      <th>balance</th>\n",
              "      <th>day</th>\n",
              "      <th>duration</th>\n",
              "      <th>campaign</th>\n",
              "      <th>pdays</th>\n",
              "      <th>previous</th>\n",
              "      <th>response</th>\n",
              "    </tr>\n",
              "  </thead>\n",
              "  <tbody>\n",
              "    <tr>\n",
              "      <th>24060</th>\n",
              "      <td>0</td>\n",
              "      <td>1</td>\n",
              "      <td>2</td>\n",
              "      <td>1</td>\n",
              "      <td>0</td>\n",
              "      <td>0</td>\n",
              "      <td>0</td>\n",
              "      <td>1</td>\n",
              "      <td>10</td>\n",
              "      <td>0</td>\n",
              "      <td>33</td>\n",
              "      <td>50000</td>\n",
              "      <td>882</td>\n",
              "      <td>21</td>\n",
              "      <td>39</td>\n",
              "      <td>1</td>\n",
              "      <td>151</td>\n",
              "      <td>3</td>\n",
              "      <td>0</td>\n",
              "    </tr>\n",
              "    <tr>\n",
              "      <th>24062</th>\n",
              "      <td>0</td>\n",
              "      <td>2</td>\n",
              "      <td>1</td>\n",
              "      <td>1</td>\n",
              "      <td>0</td>\n",
              "      <td>1</td>\n",
              "      <td>1</td>\n",
              "      <td>1</td>\n",
              "      <td>10</td>\n",
              "      <td>1</td>\n",
              "      <td>42</td>\n",
              "      <td>50000</td>\n",
              "      <td>-247</td>\n",
              "      <td>21</td>\n",
              "      <td>519</td>\n",
              "      <td>1</td>\n",
              "      <td>166</td>\n",
              "      <td>1</td>\n",
              "      <td>1</td>\n",
              "    </tr>\n",
              "    <tr>\n",
              "      <th>24064</th>\n",
              "      <td>7</td>\n",
              "      <td>1</td>\n",
              "      <td>1</td>\n",
              "      <td>1</td>\n",
              "      <td>0</td>\n",
              "      <td>1</td>\n",
              "      <td>0</td>\n",
              "      <td>1</td>\n",
              "      <td>10</td>\n",
              "      <td>0</td>\n",
              "      <td>33</td>\n",
              "      <td>70000</td>\n",
              "      <td>3444</td>\n",
              "      <td>21</td>\n",
              "      <td>144</td>\n",
              "      <td>1</td>\n",
              "      <td>91</td>\n",
              "      <td>4</td>\n",
              "      <td>1</td>\n",
              "    </tr>\n",
              "    <tr>\n",
              "      <th>24072</th>\n",
              "      <td>4</td>\n",
              "      <td>1</td>\n",
              "      <td>2</td>\n",
              "      <td>1</td>\n",
              "      <td>0</td>\n",
              "      <td>1</td>\n",
              "      <td>0</td>\n",
              "      <td>1</td>\n",
              "      <td>10</td>\n",
              "      <td>1</td>\n",
              "      <td>36</td>\n",
              "      <td>100000</td>\n",
              "      <td>2415</td>\n",
              "      <td>22</td>\n",
              "      <td>73</td>\n",
              "      <td>1</td>\n",
              "      <td>86</td>\n",
              "      <td>4</td>\n",
              "      <td>0</td>\n",
              "    </tr>\n",
              "    <tr>\n",
              "      <th>24077</th>\n",
              "      <td>4</td>\n",
              "      <td>1</td>\n",
              "      <td>2</td>\n",
              "      <td>1</td>\n",
              "      <td>0</td>\n",
              "      <td>1</td>\n",
              "      <td>0</td>\n",
              "      <td>1</td>\n",
              "      <td>10</td>\n",
              "      <td>0</td>\n",
              "      <td>36</td>\n",
              "      <td>100000</td>\n",
              "      <td>0</td>\n",
              "      <td>23</td>\n",
              "      <td>140</td>\n",
              "      <td>1</td>\n",
              "      <td>143</td>\n",
              "      <td>3</td>\n",
              "      <td>1</td>\n",
              "    </tr>\n",
              "  </tbody>\n",
              "</table>\n",
              "</div>"
            ],
            "text/plain": [
              "       job  marital  education  targeted  ...  campaign  pdays  previous  response\n",
              "24060    0        1          2         1  ...         1    151         3         0\n",
              "24062    0        2          1         1  ...         1    166         1         1\n",
              "24064    7        1          1         1  ...         1     91         4         1\n",
              "24072    4        1          2         1  ...         1     86         4         0\n",
              "24077    4        1          2         1  ...         1    143         3         1\n",
              "\n",
              "[5 rows x 19 columns]"
            ]
          },
          "metadata": {
            "tags": []
          },
          "execution_count": 22
        }
      ]
    },
    {
      "cell_type": "code",
      "metadata": {
        "colab": {
          "base_uri": "https://localhost:8080/",
          "height": 0
        },
        "id": "guZFa38r9sSN",
        "outputId": "7b675844-c90e-48d0-e731-36b27e9fa4e2"
      },
      "source": [
        "bank_data3.corr()"
      ],
      "execution_count": 23,
      "outputs": [
        {
          "output_type": "execute_result",
          "data": {
            "text/html": [
              "<div>\n",
              "<style scoped>\n",
              "    .dataframe tbody tr th:only-of-type {\n",
              "        vertical-align: middle;\n",
              "    }\n",
              "\n",
              "    .dataframe tbody tr th {\n",
              "        vertical-align: top;\n",
              "    }\n",
              "\n",
              "    .dataframe thead th {\n",
              "        text-align: right;\n",
              "    }\n",
              "</style>\n",
              "<table border=\"1\" class=\"dataframe\">\n",
              "  <thead>\n",
              "    <tr style=\"text-align: right;\">\n",
              "      <th></th>\n",
              "      <th>job</th>\n",
              "      <th>marital</th>\n",
              "      <th>education</th>\n",
              "      <th>targeted</th>\n",
              "      <th>default</th>\n",
              "      <th>housing</th>\n",
              "      <th>loan</th>\n",
              "      <th>contact</th>\n",
              "      <th>month</th>\n",
              "      <th>poutcome</th>\n",
              "      <th>age</th>\n",
              "      <th>salary</th>\n",
              "      <th>balance</th>\n",
              "      <th>day</th>\n",
              "      <th>duration</th>\n",
              "      <th>campaign</th>\n",
              "      <th>pdays</th>\n",
              "      <th>previous</th>\n",
              "      <th>response</th>\n",
              "    </tr>\n",
              "  </thead>\n",
              "  <tbody>\n",
              "    <tr>\n",
              "      <th>job</th>\n",
              "      <td>1.000000</td>\n",
              "      <td>0.072746</td>\n",
              "      <td>0.159280</td>\n",
              "      <td>-0.091197</td>\n",
              "      <td>-0.021012</td>\n",
              "      <td>-0.132378</td>\n",
              "      <td>-0.033500</td>\n",
              "      <td>-0.006279</td>\n",
              "      <td>-0.002498</td>\n",
              "      <td>0.066642</td>\n",
              "      <td>-0.020606</td>\n",
              "      <td>0.115271</td>\n",
              "      <td>0.041975</td>\n",
              "      <td>0.013841</td>\n",
              "      <td>0.024449</td>\n",
              "      <td>-0.008764</td>\n",
              "      <td>-0.110505</td>\n",
              "      <td>-0.000266</td>\n",
              "      <td>0.081239</td>\n",
              "    </tr>\n",
              "    <tr>\n",
              "      <th>marital</th>\n",
              "      <td>0.072746</td>\n",
              "      <td>1.000000</td>\n",
              "      <td>0.121688</td>\n",
              "      <td>-0.255247</td>\n",
              "      <td>-0.005632</td>\n",
              "      <td>-0.056963</td>\n",
              "      <td>-0.055435</td>\n",
              "      <td>-0.031866</td>\n",
              "      <td>-0.024130</td>\n",
              "      <td>0.045015</td>\n",
              "      <td>-0.414972</td>\n",
              "      <td>-0.042212</td>\n",
              "      <td>-0.019767</td>\n",
              "      <td>0.016797</td>\n",
              "      <td>-0.009075</td>\n",
              "      <td>-0.008338</td>\n",
              "      <td>-0.011861</td>\n",
              "      <td>0.004536</td>\n",
              "      <td>0.049234</td>\n",
              "    </tr>\n",
              "    <tr>\n",
              "      <th>education</th>\n",
              "      <td>0.159280</td>\n",
              "      <td>0.121688</td>\n",
              "      <td>1.000000</td>\n",
              "      <td>-0.632513</td>\n",
              "      <td>-0.013682</td>\n",
              "      <td>-0.129804</td>\n",
              "      <td>-0.047718</td>\n",
              "      <td>-0.048456</td>\n",
              "      <td>-0.010829</td>\n",
              "      <td>0.082852</td>\n",
              "      <td>-0.119516</td>\n",
              "      <td>0.423157</td>\n",
              "      <td>0.074166</td>\n",
              "      <td>0.023542</td>\n",
              "      <td>-0.001142</td>\n",
              "      <td>-0.024343</td>\n",
              "      <td>-0.140155</td>\n",
              "      <td>0.000115</td>\n",
              "      <td>0.108098</td>\n",
              "    </tr>\n",
              "    <tr>\n",
              "      <th>targeted</th>\n",
              "      <td>-0.091197</td>\n",
              "      <td>-0.255247</td>\n",
              "      <td>-0.632513</td>\n",
              "      <td>1.000000</td>\n",
              "      <td>0.019593</td>\n",
              "      <td>0.087470</td>\n",
              "      <td>0.070420</td>\n",
              "      <td>0.020464</td>\n",
              "      <td>0.010187</td>\n",
              "      <td>-0.071356</td>\n",
              "      <td>0.140750</td>\n",
              "      <td>-0.228338</td>\n",
              "      <td>-0.052007</td>\n",
              "      <td>-0.026179</td>\n",
              "      <td>-0.014729</td>\n",
              "      <td>0.017948</td>\n",
              "      <td>0.075638</td>\n",
              "      <td>-0.001205</td>\n",
              "      <td>-0.091216</td>\n",
              "    </tr>\n",
              "    <tr>\n",
              "      <th>default</th>\n",
              "      <td>-0.021012</td>\n",
              "      <td>-0.005632</td>\n",
              "      <td>-0.013682</td>\n",
              "      <td>0.019593</td>\n",
              "      <td>1.000000</td>\n",
              "      <td>0.022644</td>\n",
              "      <td>0.052261</td>\n",
              "      <td>-0.019834</td>\n",
              "      <td>0.020123</td>\n",
              "      <td>-0.025566</td>\n",
              "      <td>-0.027825</td>\n",
              "      <td>0.000361</td>\n",
              "      <td>-0.045010</td>\n",
              "      <td>-0.001013</td>\n",
              "      <td>-0.002635</td>\n",
              "      <td>-0.002064</td>\n",
              "      <td>0.033760</td>\n",
              "      <td>0.012149</td>\n",
              "      <td>-0.028299</td>\n",
              "    </tr>\n",
              "    <tr>\n",
              "      <th>housing</th>\n",
              "      <td>-0.132378</td>\n",
              "      <td>-0.056963</td>\n",
              "      <td>-0.129804</td>\n",
              "      <td>0.087470</td>\n",
              "      <td>0.022644</td>\n",
              "      <td>1.000000</td>\n",
              "      <td>0.109815</td>\n",
              "      <td>-0.069869</td>\n",
              "      <td>0.014452</td>\n",
              "      <td>-0.284439</td>\n",
              "      <td>-0.179386</td>\n",
              "      <td>-0.035905</td>\n",
              "      <td>-0.109163</td>\n",
              "      <td>-0.066740</td>\n",
              "      <td>-0.072070</td>\n",
              "      <td>0.063071</td>\n",
              "      <td>0.335124</td>\n",
              "      <td>0.008934</td>\n",
              "      <td>-0.317501</td>\n",
              "    </tr>\n",
              "    <tr>\n",
              "      <th>loan</th>\n",
              "      <td>-0.033500</td>\n",
              "      <td>-0.055435</td>\n",
              "      <td>-0.047718</td>\n",
              "      <td>0.070420</td>\n",
              "      <td>0.052261</td>\n",
              "      <td>0.109815</td>\n",
              "      <td>1.000000</td>\n",
              "      <td>-0.020904</td>\n",
              "      <td>0.000524</td>\n",
              "      <td>-0.103154</td>\n",
              "      <td>-0.008330</td>\n",
              "      <td>0.013788</td>\n",
              "      <td>-0.085004</td>\n",
              "      <td>0.007550</td>\n",
              "      <td>-0.033874</td>\n",
              "      <td>0.007444</td>\n",
              "      <td>0.022454</td>\n",
              "      <td>0.016549</td>\n",
              "      <td>-0.115805</td>\n",
              "    </tr>\n",
              "    <tr>\n",
              "      <th>contact</th>\n",
              "      <td>-0.006279</td>\n",
              "      <td>-0.031866</td>\n",
              "      <td>-0.048456</td>\n",
              "      <td>0.020464</td>\n",
              "      <td>-0.019834</td>\n",
              "      <td>-0.069869</td>\n",
              "      <td>-0.020904</td>\n",
              "      <td>1.000000</td>\n",
              "      <td>0.047045</td>\n",
              "      <td>0.024590</td>\n",
              "      <td>0.166384</td>\n",
              "      <td>-0.035805</td>\n",
              "      <td>0.030317</td>\n",
              "      <td>-0.012330</td>\n",
              "      <td>-0.036360</td>\n",
              "      <td>0.063199</td>\n",
              "      <td>0.077235</td>\n",
              "      <td>0.043830</td>\n",
              "      <td>-0.014321</td>\n",
              "    </tr>\n",
              "    <tr>\n",
              "      <th>month</th>\n",
              "      <td>-0.002498</td>\n",
              "      <td>-0.024130</td>\n",
              "      <td>-0.010829</td>\n",
              "      <td>0.010187</td>\n",
              "      <td>0.020123</td>\n",
              "      <td>0.014452</td>\n",
              "      <td>0.000524</td>\n",
              "      <td>0.047045</td>\n",
              "      <td>1.000000</td>\n",
              "      <td>-0.019188</td>\n",
              "      <td>0.013909</td>\n",
              "      <td>0.019820</td>\n",
              "      <td>0.015723</td>\n",
              "      <td>-0.024264</td>\n",
              "      <td>-0.036446</td>\n",
              "      <td>0.023224</td>\n",
              "      <td>0.022529</td>\n",
              "      <td>0.013977</td>\n",
              "      <td>-0.009586</td>\n",
              "    </tr>\n",
              "    <tr>\n",
              "      <th>poutcome</th>\n",
              "      <td>0.066642</td>\n",
              "      <td>0.045015</td>\n",
              "      <td>0.082852</td>\n",
              "      <td>-0.071356</td>\n",
              "      <td>-0.025566</td>\n",
              "      <td>-0.284439</td>\n",
              "      <td>-0.103154</td>\n",
              "      <td>0.024590</td>\n",
              "      <td>-0.019188</td>\n",
              "      <td>1.000000</td>\n",
              "      <td>0.051987</td>\n",
              "      <td>0.013079</td>\n",
              "      <td>0.051464</td>\n",
              "      <td>0.017125</td>\n",
              "      <td>0.108473</td>\n",
              "      <td>-0.000502</td>\n",
              "      <td>-0.235119</td>\n",
              "      <td>0.041607</td>\n",
              "      <td>0.420519</td>\n",
              "    </tr>\n",
              "    <tr>\n",
              "      <th>age</th>\n",
              "      <td>-0.020606</td>\n",
              "      <td>-0.414972</td>\n",
              "      <td>-0.119516</td>\n",
              "      <td>0.140750</td>\n",
              "      <td>-0.027825</td>\n",
              "      <td>-0.179386</td>\n",
              "      <td>-0.008330</td>\n",
              "      <td>0.166384</td>\n",
              "      <td>0.013909</td>\n",
              "      <td>0.051987</td>\n",
              "      <td>1.000000</td>\n",
              "      <td>0.058322</td>\n",
              "      <td>0.115480</td>\n",
              "      <td>0.018399</td>\n",
              "      <td>0.060519</td>\n",
              "      <td>0.003842</td>\n",
              "      <td>-0.107863</td>\n",
              "      <td>0.002280</td>\n",
              "      <td>0.072577</td>\n",
              "    </tr>\n",
              "    <tr>\n",
              "      <th>salary</th>\n",
              "      <td>0.115271</td>\n",
              "      <td>-0.042212</td>\n",
              "      <td>0.423157</td>\n",
              "      <td>-0.228338</td>\n",
              "      <td>0.000361</td>\n",
              "      <td>-0.035905</td>\n",
              "      <td>0.013788</td>\n",
              "      <td>-0.035805</td>\n",
              "      <td>0.019820</td>\n",
              "      <td>0.013079</td>\n",
              "      <td>0.058322</td>\n",
              "      <td>1.000000</td>\n",
              "      <td>0.066079</td>\n",
              "      <td>0.002379</td>\n",
              "      <td>0.005734</td>\n",
              "      <td>-0.018559</td>\n",
              "      <td>-0.106134</td>\n",
              "      <td>0.028427</td>\n",
              "      <td>0.036774</td>\n",
              "    </tr>\n",
              "    <tr>\n",
              "      <th>balance</th>\n",
              "      <td>0.041975</td>\n",
              "      <td>-0.019767</td>\n",
              "      <td>0.074166</td>\n",
              "      <td>-0.052007</td>\n",
              "      <td>-0.045010</td>\n",
              "      <td>-0.109163</td>\n",
              "      <td>-0.085004</td>\n",
              "      <td>0.030317</td>\n",
              "      <td>0.015723</td>\n",
              "      <td>0.051464</td>\n",
              "      <td>0.115480</td>\n",
              "      <td>0.066079</td>\n",
              "      <td>1.000000</td>\n",
              "      <td>0.051732</td>\n",
              "      <td>0.040998</td>\n",
              "      <td>-0.008150</td>\n",
              "      <td>-0.108122</td>\n",
              "      <td>0.001570</td>\n",
              "      <td>0.076995</td>\n",
              "    </tr>\n",
              "    <tr>\n",
              "      <th>day</th>\n",
              "      <td>0.013841</td>\n",
              "      <td>0.016797</td>\n",
              "      <td>0.023542</td>\n",
              "      <td>-0.026179</td>\n",
              "      <td>-0.001013</td>\n",
              "      <td>-0.066740</td>\n",
              "      <td>0.007550</td>\n",
              "      <td>-0.012330</td>\n",
              "      <td>-0.024264</td>\n",
              "      <td>0.017125</td>\n",
              "      <td>0.018399</td>\n",
              "      <td>0.002379</td>\n",
              "      <td>0.051732</td>\n",
              "      <td>1.000000</td>\n",
              "      <td>-0.012687</td>\n",
              "      <td>-0.029295</td>\n",
              "      <td>-0.090095</td>\n",
              "      <td>-0.016801</td>\n",
              "      <td>0.029952</td>\n",
              "    </tr>\n",
              "    <tr>\n",
              "      <th>duration</th>\n",
              "      <td>0.024449</td>\n",
              "      <td>-0.009075</td>\n",
              "      <td>-0.001142</td>\n",
              "      <td>-0.014729</td>\n",
              "      <td>-0.002635</td>\n",
              "      <td>-0.072070</td>\n",
              "      <td>-0.033874</td>\n",
              "      <td>-0.036360</td>\n",
              "      <td>-0.036446</td>\n",
              "      <td>0.108473</td>\n",
              "      <td>0.060519</td>\n",
              "      <td>0.005734</td>\n",
              "      <td>0.040998</td>\n",
              "      <td>-0.012687</td>\n",
              "      <td>1.000000</td>\n",
              "      <td>-0.088394</td>\n",
              "      <td>-0.024407</td>\n",
              "      <td>-0.002150</td>\n",
              "      <td>0.342610</td>\n",
              "    </tr>\n",
              "    <tr>\n",
              "      <th>campaign</th>\n",
              "      <td>-0.008764</td>\n",
              "      <td>-0.008338</td>\n",
              "      <td>-0.024343</td>\n",
              "      <td>0.017948</td>\n",
              "      <td>-0.002064</td>\n",
              "      <td>0.063071</td>\n",
              "      <td>0.007444</td>\n",
              "      <td>0.063199</td>\n",
              "      <td>0.023224</td>\n",
              "      <td>-0.000502</td>\n",
              "      <td>0.003842</td>\n",
              "      <td>-0.018559</td>\n",
              "      <td>-0.008150</td>\n",
              "      <td>-0.029295</td>\n",
              "      <td>-0.088394</td>\n",
              "      <td>1.000000</td>\n",
              "      <td>0.050534</td>\n",
              "      <td>0.135523</td>\n",
              "      <td>-0.094110</td>\n",
              "    </tr>\n",
              "    <tr>\n",
              "      <th>pdays</th>\n",
              "      <td>-0.110505</td>\n",
              "      <td>-0.011861</td>\n",
              "      <td>-0.140155</td>\n",
              "      <td>0.075638</td>\n",
              "      <td>0.033760</td>\n",
              "      <td>0.335124</td>\n",
              "      <td>0.022454</td>\n",
              "      <td>0.077235</td>\n",
              "      <td>0.022529</td>\n",
              "      <td>-0.235119</td>\n",
              "      <td>-0.107863</td>\n",
              "      <td>-0.106134</td>\n",
              "      <td>-0.108122</td>\n",
              "      <td>-0.090095</td>\n",
              "      <td>-0.024407</td>\n",
              "      <td>0.050534</td>\n",
              "      <td>1.000000</td>\n",
              "      <td>-0.021885</td>\n",
              "      <td>-0.152206</td>\n",
              "    </tr>\n",
              "    <tr>\n",
              "      <th>previous</th>\n",
              "      <td>-0.000266</td>\n",
              "      <td>0.004536</td>\n",
              "      <td>0.000115</td>\n",
              "      <td>-0.001205</td>\n",
              "      <td>0.012149</td>\n",
              "      <td>0.008934</td>\n",
              "      <td>0.016549</td>\n",
              "      <td>0.043830</td>\n",
              "      <td>0.013977</td>\n",
              "      <td>0.041607</td>\n",
              "      <td>0.002280</td>\n",
              "      <td>0.028427</td>\n",
              "      <td>0.001570</td>\n",
              "      <td>-0.016801</td>\n",
              "      <td>-0.002150</td>\n",
              "      <td>0.135523</td>\n",
              "      <td>-0.021885</td>\n",
              "      <td>1.000000</td>\n",
              "      <td>0.008622</td>\n",
              "    </tr>\n",
              "    <tr>\n",
              "      <th>response</th>\n",
              "      <td>0.081239</td>\n",
              "      <td>0.049234</td>\n",
              "      <td>0.108098</td>\n",
              "      <td>-0.091216</td>\n",
              "      <td>-0.028299</td>\n",
              "      <td>-0.317501</td>\n",
              "      <td>-0.115805</td>\n",
              "      <td>-0.014321</td>\n",
              "      <td>-0.009586</td>\n",
              "      <td>0.420519</td>\n",
              "      <td>0.072577</td>\n",
              "      <td>0.036774</td>\n",
              "      <td>0.076995</td>\n",
              "      <td>0.029952</td>\n",
              "      <td>0.342610</td>\n",
              "      <td>-0.094110</td>\n",
              "      <td>-0.152206</td>\n",
              "      <td>0.008622</td>\n",
              "      <td>1.000000</td>\n",
              "    </tr>\n",
              "  </tbody>\n",
              "</table>\n",
              "</div>"
            ],
            "text/plain": [
              "                job   marital  education  ...     pdays  previous  response\n",
              "job        1.000000  0.072746   0.159280  ... -0.110505 -0.000266  0.081239\n",
              "marital    0.072746  1.000000   0.121688  ... -0.011861  0.004536  0.049234\n",
              "education  0.159280  0.121688   1.000000  ... -0.140155  0.000115  0.108098\n",
              "targeted  -0.091197 -0.255247  -0.632513  ...  0.075638 -0.001205 -0.091216\n",
              "default   -0.021012 -0.005632  -0.013682  ...  0.033760  0.012149 -0.028299\n",
              "housing   -0.132378 -0.056963  -0.129804  ...  0.335124  0.008934 -0.317501\n",
              "loan      -0.033500 -0.055435  -0.047718  ...  0.022454  0.016549 -0.115805\n",
              "contact   -0.006279 -0.031866  -0.048456  ...  0.077235  0.043830 -0.014321\n",
              "month     -0.002498 -0.024130  -0.010829  ...  0.022529  0.013977 -0.009586\n",
              "poutcome   0.066642  0.045015   0.082852  ... -0.235119  0.041607  0.420519\n",
              "age       -0.020606 -0.414972  -0.119516  ... -0.107863  0.002280  0.072577\n",
              "salary     0.115271 -0.042212   0.423157  ... -0.106134  0.028427  0.036774\n",
              "balance    0.041975 -0.019767   0.074166  ... -0.108122  0.001570  0.076995\n",
              "day        0.013841  0.016797   0.023542  ... -0.090095 -0.016801  0.029952\n",
              "duration   0.024449 -0.009075  -0.001142  ... -0.024407 -0.002150  0.342610\n",
              "campaign  -0.008764 -0.008338  -0.024343  ...  0.050534  0.135523 -0.094110\n",
              "pdays     -0.110505 -0.011861  -0.140155  ...  1.000000 -0.021885 -0.152206\n",
              "previous  -0.000266  0.004536   0.000115  ... -0.021885  1.000000  0.008622\n",
              "response   0.081239  0.049234   0.108098  ... -0.152206  0.008622  1.000000\n",
              "\n",
              "[19 rows x 19 columns]"
            ]
          },
          "metadata": {
            "tags": []
          },
          "execution_count": 23
        }
      ]
    },
    {
      "cell_type": "markdown",
      "metadata": {
        "id": "s51Z7h2E9sSO"
      },
      "source": [
        "### Model Building"
      ]
    },
    {
      "cell_type": "markdown",
      "metadata": {
        "id": "6KSqy4se9sSO"
      },
      "source": [
        "### Logistic Regression"
      ]
    },
    {
      "cell_type": "code",
      "metadata": {
        "id": "9dOH8Czb9sSO"
      },
      "source": [
        "from sklearn.model_selection import train_test_split\n",
        "from sklearn.model_selection import cross_val_score\n",
        "from sklearn.linear_model import LogisticRegression\n",
        "from sklearn.metrics import classification_report\n",
        "from sklearn.metrics import confusion_matrix\n",
        "from sklearn.metrics import f1_score\n",
        "from sklearn.metrics import accuracy_score\n",
        "np.random.seed(42)"
      ],
      "execution_count": 24,
      "outputs": []
    },
    {
      "cell_type": "code",
      "metadata": {
        "id": "YntUNtPy9sSO"
      },
      "source": [
        "import warnings\n",
        "warnings.filterwarnings(\"ignore\")"
      ],
      "execution_count": 25,
      "outputs": []
    },
    {
      "cell_type": "code",
      "metadata": {
        "colab": {
          "base_uri": "https://localhost:8080/",
          "height": 215
        },
        "id": "YDsYhz309sSP",
        "outputId": "2f731b0d-4714-4f67-a6bb-11bb4c247ac8"
      },
      "source": [
        "X = bank_data3.drop(\"response\", axis=1)\n",
        "X.head()"
      ],
      "execution_count": 26,
      "outputs": [
        {
          "output_type": "execute_result",
          "data": {
            "text/html": [
              "<div>\n",
              "<style scoped>\n",
              "    .dataframe tbody tr th:only-of-type {\n",
              "        vertical-align: middle;\n",
              "    }\n",
              "\n",
              "    .dataframe tbody tr th {\n",
              "        vertical-align: top;\n",
              "    }\n",
              "\n",
              "    .dataframe thead th {\n",
              "        text-align: right;\n",
              "    }\n",
              "</style>\n",
              "<table border=\"1\" class=\"dataframe\">\n",
              "  <thead>\n",
              "    <tr style=\"text-align: right;\">\n",
              "      <th></th>\n",
              "      <th>job</th>\n",
              "      <th>marital</th>\n",
              "      <th>education</th>\n",
              "      <th>targeted</th>\n",
              "      <th>default</th>\n",
              "      <th>housing</th>\n",
              "      <th>loan</th>\n",
              "      <th>contact</th>\n",
              "      <th>month</th>\n",
              "      <th>poutcome</th>\n",
              "      <th>age</th>\n",
              "      <th>salary</th>\n",
              "      <th>balance</th>\n",
              "      <th>day</th>\n",
              "      <th>duration</th>\n",
              "      <th>campaign</th>\n",
              "      <th>pdays</th>\n",
              "      <th>previous</th>\n",
              "    </tr>\n",
              "  </thead>\n",
              "  <tbody>\n",
              "    <tr>\n",
              "      <th>24060</th>\n",
              "      <td>0</td>\n",
              "      <td>1</td>\n",
              "      <td>2</td>\n",
              "      <td>1</td>\n",
              "      <td>0</td>\n",
              "      <td>0</td>\n",
              "      <td>0</td>\n",
              "      <td>1</td>\n",
              "      <td>10</td>\n",
              "      <td>0</td>\n",
              "      <td>33</td>\n",
              "      <td>50000</td>\n",
              "      <td>882</td>\n",
              "      <td>21</td>\n",
              "      <td>39</td>\n",
              "      <td>1</td>\n",
              "      <td>151</td>\n",
              "      <td>3</td>\n",
              "    </tr>\n",
              "    <tr>\n",
              "      <th>24062</th>\n",
              "      <td>0</td>\n",
              "      <td>2</td>\n",
              "      <td>1</td>\n",
              "      <td>1</td>\n",
              "      <td>0</td>\n",
              "      <td>1</td>\n",
              "      <td>1</td>\n",
              "      <td>1</td>\n",
              "      <td>10</td>\n",
              "      <td>1</td>\n",
              "      <td>42</td>\n",
              "      <td>50000</td>\n",
              "      <td>-247</td>\n",
              "      <td>21</td>\n",
              "      <td>519</td>\n",
              "      <td>1</td>\n",
              "      <td>166</td>\n",
              "      <td>1</td>\n",
              "    </tr>\n",
              "    <tr>\n",
              "      <th>24064</th>\n",
              "      <td>7</td>\n",
              "      <td>1</td>\n",
              "      <td>1</td>\n",
              "      <td>1</td>\n",
              "      <td>0</td>\n",
              "      <td>1</td>\n",
              "      <td>0</td>\n",
              "      <td>1</td>\n",
              "      <td>10</td>\n",
              "      <td>0</td>\n",
              "      <td>33</td>\n",
              "      <td>70000</td>\n",
              "      <td>3444</td>\n",
              "      <td>21</td>\n",
              "      <td>144</td>\n",
              "      <td>1</td>\n",
              "      <td>91</td>\n",
              "      <td>4</td>\n",
              "    </tr>\n",
              "    <tr>\n",
              "      <th>24072</th>\n",
              "      <td>4</td>\n",
              "      <td>1</td>\n",
              "      <td>2</td>\n",
              "      <td>1</td>\n",
              "      <td>0</td>\n",
              "      <td>1</td>\n",
              "      <td>0</td>\n",
              "      <td>1</td>\n",
              "      <td>10</td>\n",
              "      <td>1</td>\n",
              "      <td>36</td>\n",
              "      <td>100000</td>\n",
              "      <td>2415</td>\n",
              "      <td>22</td>\n",
              "      <td>73</td>\n",
              "      <td>1</td>\n",
              "      <td>86</td>\n",
              "      <td>4</td>\n",
              "    </tr>\n",
              "    <tr>\n",
              "      <th>24077</th>\n",
              "      <td>4</td>\n",
              "      <td>1</td>\n",
              "      <td>2</td>\n",
              "      <td>1</td>\n",
              "      <td>0</td>\n",
              "      <td>1</td>\n",
              "      <td>0</td>\n",
              "      <td>1</td>\n",
              "      <td>10</td>\n",
              "      <td>0</td>\n",
              "      <td>36</td>\n",
              "      <td>100000</td>\n",
              "      <td>0</td>\n",
              "      <td>23</td>\n",
              "      <td>140</td>\n",
              "      <td>1</td>\n",
              "      <td>143</td>\n",
              "      <td>3</td>\n",
              "    </tr>\n",
              "  </tbody>\n",
              "</table>\n",
              "</div>"
            ],
            "text/plain": [
              "       job  marital  education  targeted  ...  duration  campaign  pdays  previous\n",
              "24060    0        1          2         1  ...        39         1    151         3\n",
              "24062    0        2          1         1  ...       519         1    166         1\n",
              "24064    7        1          1         1  ...       144         1     91         4\n",
              "24072    4        1          2         1  ...        73         1     86         4\n",
              "24077    4        1          2         1  ...       140         1    143         3\n",
              "\n",
              "[5 rows x 18 columns]"
            ]
          },
          "metadata": {
            "tags": []
          },
          "execution_count": 26
        }
      ]
    },
    {
      "cell_type": "code",
      "metadata": {
        "colab": {
          "base_uri": "https://localhost:8080/",
          "height": 195
        },
        "id": "q3EU4hGG9sSP",
        "outputId": "270cf1d2-1f2c-47e6-8b47-ce60807514bf"
      },
      "source": [
        "y= bank_data3[['response']]\n",
        "y.head()"
      ],
      "execution_count": 27,
      "outputs": [
        {
          "output_type": "execute_result",
          "data": {
            "text/html": [
              "<div>\n",
              "<style scoped>\n",
              "    .dataframe tbody tr th:only-of-type {\n",
              "        vertical-align: middle;\n",
              "    }\n",
              "\n",
              "    .dataframe tbody tr th {\n",
              "        vertical-align: top;\n",
              "    }\n",
              "\n",
              "    .dataframe thead th {\n",
              "        text-align: right;\n",
              "    }\n",
              "</style>\n",
              "<table border=\"1\" class=\"dataframe\">\n",
              "  <thead>\n",
              "    <tr style=\"text-align: right;\">\n",
              "      <th></th>\n",
              "      <th>response</th>\n",
              "    </tr>\n",
              "  </thead>\n",
              "  <tbody>\n",
              "    <tr>\n",
              "      <th>24060</th>\n",
              "      <td>0</td>\n",
              "    </tr>\n",
              "    <tr>\n",
              "      <th>24062</th>\n",
              "      <td>1</td>\n",
              "    </tr>\n",
              "    <tr>\n",
              "      <th>24064</th>\n",
              "      <td>1</td>\n",
              "    </tr>\n",
              "    <tr>\n",
              "      <th>24072</th>\n",
              "      <td>0</td>\n",
              "    </tr>\n",
              "    <tr>\n",
              "      <th>24077</th>\n",
              "      <td>1</td>\n",
              "    </tr>\n",
              "  </tbody>\n",
              "</table>\n",
              "</div>"
            ],
            "text/plain": [
              "       response\n",
              "24060         0\n",
              "24062         1\n",
              "24064         1\n",
              "24072         0\n",
              "24077         1"
            ]
          },
          "metadata": {
            "tags": []
          },
          "execution_count": 27
        }
      ]
    },
    {
      "cell_type": "code",
      "metadata": {
        "id": "ec4AjZ6v9sSQ"
      },
      "source": [
        "X_train,X_test,y_train,y_test = train_test_split(X,y,test_size = 0.2,random_state=42)"
      ],
      "execution_count": 28,
      "outputs": []
    },
    {
      "cell_type": "code",
      "metadata": {
        "id": "WPl4otYm9sSQ"
      },
      "source": [
        "lr = LogisticRegression()"
      ],
      "execution_count": 29,
      "outputs": []
    },
    {
      "cell_type": "code",
      "metadata": {
        "colab": {
          "base_uri": "https://localhost:8080/"
        },
        "id": "Yd1cWhwQ9sSQ",
        "outputId": "5f5a3ada-08dd-46f3-ec22-6f43124db2e7"
      },
      "source": [
        "lr.fit(X_train,y_train)"
      ],
      "execution_count": 30,
      "outputs": [
        {
          "output_type": "execute_result",
          "data": {
            "text/plain": [
              "LogisticRegression(C=1.0, class_weight=None, dual=False, fit_intercept=True,\n",
              "                   intercept_scaling=1, l1_ratio=None, max_iter=100,\n",
              "                   multi_class='auto', n_jobs=None, penalty='l2',\n",
              "                   random_state=None, solver='lbfgs', tol=0.0001, verbose=0,\n",
              "                   warm_start=False)"
            ]
          },
          "metadata": {
            "tags": []
          },
          "execution_count": 30
        }
      ]
    },
    {
      "cell_type": "code",
      "metadata": {
        "colab": {
          "base_uri": "https://localhost:8080/"
        },
        "id": "rBSmntei9sSR",
        "outputId": "73534886-04c0-44ce-931f-d8960377a693"
      },
      "source": [
        "cv_score= cross_val_score(lr,X_train,y_train, cv=5)\n",
        "np.mean(cv_score)"
      ],
      "execution_count": 31,
      "outputs": [
        {
          "output_type": "execute_result",
          "data": {
            "text/plain": [
              "0.777895533686601"
            ]
          },
          "metadata": {
            "tags": []
          },
          "execution_count": 31
        }
      ]
    },
    {
      "cell_type": "code",
      "metadata": {
        "id": "yElwi91s9sSS"
      },
      "source": [
        "y_pred = lr.predict(X_test)"
      ],
      "execution_count": 32,
      "outputs": []
    },
    {
      "cell_type": "code",
      "metadata": {
        "colab": {
          "base_uri": "https://localhost:8080/"
        },
        "id": "921w-pjC9sST",
        "outputId": "ceb8908c-556a-4fa4-95da-9a4756422349"
      },
      "source": [
        "print(classification_report(y_test, y_pred))"
      ],
      "execution_count": 33,
      "outputs": [
        {
          "output_type": "stream",
          "text": [
            "              precision    recall  f1-score   support\n",
            "\n",
            "           0       0.80      0.96      0.87      1279\n",
            "           1       0.57      0.20      0.29       373\n",
            "\n",
            "    accuracy                           0.79      1652\n",
            "   macro avg       0.69      0.58      0.58      1652\n",
            "weighted avg       0.75      0.79      0.74      1652\n",
            "\n"
          ],
          "name": "stdout"
        }
      ]
    },
    {
      "cell_type": "code",
      "metadata": {
        "colab": {
          "base_uri": "https://localhost:8080/"
        },
        "id": "PlhN3LvF9sST",
        "outputId": "d947a633-3d9e-4f78-e6ba-2c852dde7951"
      },
      "source": [
        "confusion_matrix(y_pred,y_test)"
      ],
      "execution_count": 34,
      "outputs": [
        {
          "output_type": "execute_result",
          "data": {
            "text/plain": [
              "array([[1224,  299],\n",
              "       [  55,   74]])"
            ]
          },
          "metadata": {
            "tags": []
          },
          "execution_count": 34
        }
      ]
    },
    {
      "cell_type": "code",
      "metadata": {
        "colab": {
          "base_uri": "https://localhost:8080/"
        },
        "id": "JzniSY9I9sSU",
        "outputId": "88ba88d8-b842-4e41-ffaf-340eb89efb92"
      },
      "source": [
        "f1_score(y_pred,y_test)"
      ],
      "execution_count": 35,
      "outputs": [
        {
          "output_type": "execute_result",
          "data": {
            "text/plain": [
              "0.29482071713147406"
            ]
          },
          "metadata": {
            "tags": []
          },
          "execution_count": 35
        }
      ]
    },
    {
      "cell_type": "code",
      "metadata": {
        "colab": {
          "base_uri": "https://localhost:8080/"
        },
        "id": "11jHHR8I9sSV",
        "outputId": "0ae5e97d-e8d1-4ca9-f202-346ae2e18949"
      },
      "source": [
        "lrscore = accuracy_score(y_pred,y_test)\n",
        "lrscore"
      ],
      "execution_count": 36,
      "outputs": [
        {
          "output_type": "execute_result",
          "data": {
            "text/plain": [
              "0.7857142857142857"
            ]
          },
          "metadata": {
            "tags": []
          },
          "execution_count": 36
        }
      ]
    },
    {
      "cell_type": "markdown",
      "metadata": {
        "id": "ZSVDD7nq9sSV"
      },
      "source": [
        "### Recursive Feature Elimination"
      ]
    },
    {
      "cell_type": "code",
      "metadata": {
        "colab": {
          "base_uri": "https://localhost:8080/"
        },
        "id": "3ebFvzJw9sSW",
        "outputId": "40fd236f-1429-4c3d-f310-ae25822e6e05"
      },
      "source": [
        "from sklearn.feature_selection import RFE\n",
        "from sklearn.preprocessing import MinMaxScaler\n",
        "scaler = MinMaxScaler()\n",
        "rfe = RFE(lr, 5)\n",
        "rfe.fit(X_train,y_train)"
      ],
      "execution_count": 37,
      "outputs": [
        {
          "output_type": "execute_result",
          "data": {
            "text/plain": [
              "RFE(estimator=LogisticRegression(C=1.0, class_weight=None, dual=False,\n",
              "                                 fit_intercept=True, intercept_scaling=1,\n",
              "                                 l1_ratio=None, max_iter=100,\n",
              "                                 multi_class='auto', n_jobs=None, penalty='l2',\n",
              "                                 random_state=None, solver='lbfgs', tol=0.0001,\n",
              "                                 verbose=0, warm_start=False),\n",
              "    n_features_to_select=5, step=1, verbose=0)"
            ]
          },
          "metadata": {
            "tags": []
          },
          "execution_count": 37
        }
      ]
    },
    {
      "cell_type": "code",
      "metadata": {
        "colab": {
          "base_uri": "https://localhost:8080/"
        },
        "id": "sL5QSmTg9sSW",
        "outputId": "3c4eb077-f063-4d33-fbe2-d8300d534a53"
      },
      "source": [
        "rfe.support_"
      ],
      "execution_count": 38,
      "outputs": [
        {
          "output_type": "execute_result",
          "data": {
            "text/plain": [
              "array([False, False, False, False,  True,  True,  True,  True, False,\n",
              "        True, False, False, False, False, False, False, False, False])"
            ]
          },
          "metadata": {
            "tags": []
          },
          "execution_count": 38
        }
      ]
    },
    {
      "cell_type": "code",
      "metadata": {
        "colab": {
          "base_uri": "https://localhost:8080/"
        },
        "id": "MB1udXUq9sSX",
        "outputId": "2f9e729a-e034-4f82-8fac-efc52a8ca669"
      },
      "source": [
        "X_train.columns[rfe.support_]"
      ],
      "execution_count": 39,
      "outputs": [
        {
          "output_type": "execute_result",
          "data": {
            "text/plain": [
              "Index(['default', 'housing', 'loan', 'contact', 'poutcome'], dtype='object')"
            ]
          },
          "metadata": {
            "tags": []
          },
          "execution_count": 39
        }
      ]
    },
    {
      "cell_type": "code",
      "metadata": {
        "id": "lZ3gIIxu9sSX"
      },
      "source": [
        "cols = X_train.columns[rfe.support_]"
      ],
      "execution_count": 40,
      "outputs": []
    },
    {
      "cell_type": "code",
      "metadata": {
        "colab": {
          "base_uri": "https://localhost:8080/"
        },
        "id": "3_lIAPVj9sSX",
        "outputId": "f8f59492-2608-4a31-9a7a-5c2ad18b776f"
      },
      "source": [
        "lr.fit(X_train[cols],y_train)"
      ],
      "execution_count": 41,
      "outputs": [
        {
          "output_type": "execute_result",
          "data": {
            "text/plain": [
              "LogisticRegression(C=1.0, class_weight=None, dual=False, fit_intercept=True,\n",
              "                   intercept_scaling=1, l1_ratio=None, max_iter=100,\n",
              "                   multi_class='auto', n_jobs=None, penalty='l2',\n",
              "                   random_state=None, solver='lbfgs', tol=0.0001, verbose=0,\n",
              "                   warm_start=False)"
            ]
          },
          "metadata": {
            "tags": []
          },
          "execution_count": 41
        }
      ]
    },
    {
      "cell_type": "code",
      "metadata": {
        "id": "xzYG4t5S9sSY"
      },
      "source": [
        "y_pred2 = lr.predict(X_test[cols])"
      ],
      "execution_count": 42,
      "outputs": []
    },
    {
      "cell_type": "code",
      "metadata": {
        "colab": {
          "base_uri": "https://localhost:8080/"
        },
        "id": "XboPzBkG9sSY",
        "outputId": "c427a2a3-a8d3-4826-f852-62fd95f7ba52"
      },
      "source": [
        "f1_score(y_pred2,y_test)"
      ],
      "execution_count": 43,
      "outputs": [
        {
          "output_type": "execute_result",
          "data": {
            "text/plain": [
              "0.5043478260869565"
            ]
          },
          "metadata": {
            "tags": []
          },
          "execution_count": 43
        }
      ]
    },
    {
      "cell_type": "code",
      "metadata": {
        "colab": {
          "base_uri": "https://localhost:8080/"
        },
        "id": "Y88mGQg59sSY",
        "outputId": "ab6a8a9c-89e8-4ece-bea9-a15c9f2c2cf8"
      },
      "source": [
        "confusion_matrix(y_pred2,y_test)"
      ],
      "execution_count": 44,
      "outputs": [
        {
          "output_type": "execute_result",
          "data": {
            "text/plain": [
              "array([[1222,  228],\n",
              "       [  57,  145]])"
            ]
          },
          "metadata": {
            "tags": []
          },
          "execution_count": 44
        }
      ]
    },
    {
      "cell_type": "code",
      "metadata": {
        "colab": {
          "base_uri": "https://localhost:8080/",
          "height": 215
        },
        "id": "EAU39xwI9sSZ",
        "outputId": "9713338e-5f12-4729-b168-20e86c243481"
      },
      "source": [
        "import statsmodels.api as sm\n",
        "X_train.head()"
      ],
      "execution_count": 45,
      "outputs": [
        {
          "output_type": "execute_result",
          "data": {
            "text/html": [
              "<div>\n",
              "<style scoped>\n",
              "    .dataframe tbody tr th:only-of-type {\n",
              "        vertical-align: middle;\n",
              "    }\n",
              "\n",
              "    .dataframe tbody tr th {\n",
              "        vertical-align: top;\n",
              "    }\n",
              "\n",
              "    .dataframe thead th {\n",
              "        text-align: right;\n",
              "    }\n",
              "</style>\n",
              "<table border=\"1\" class=\"dataframe\">\n",
              "  <thead>\n",
              "    <tr style=\"text-align: right;\">\n",
              "      <th></th>\n",
              "      <th>job</th>\n",
              "      <th>marital</th>\n",
              "      <th>education</th>\n",
              "      <th>targeted</th>\n",
              "      <th>default</th>\n",
              "      <th>housing</th>\n",
              "      <th>loan</th>\n",
              "      <th>contact</th>\n",
              "      <th>month</th>\n",
              "      <th>poutcome</th>\n",
              "      <th>age</th>\n",
              "      <th>salary</th>\n",
              "      <th>balance</th>\n",
              "      <th>day</th>\n",
              "      <th>duration</th>\n",
              "      <th>campaign</th>\n",
              "      <th>pdays</th>\n",
              "      <th>previous</th>\n",
              "    </tr>\n",
              "  </thead>\n",
              "  <tbody>\n",
              "    <tr>\n",
              "      <th>40829</th>\n",
              "      <td>0</td>\n",
              "      <td>2</td>\n",
              "      <td>1</td>\n",
              "      <td>1</td>\n",
              "      <td>0</td>\n",
              "      <td>1</td>\n",
              "      <td>0</td>\n",
              "      <td>0</td>\n",
              "      <td>1</td>\n",
              "      <td>2</td>\n",
              "      <td>40</td>\n",
              "      <td>50000</td>\n",
              "      <td>100</td>\n",
              "      <td>11</td>\n",
              "      <td>221</td>\n",
              "      <td>1</td>\n",
              "      <td>461</td>\n",
              "      <td>1</td>\n",
              "    </tr>\n",
              "    <tr>\n",
              "      <th>29715</th>\n",
              "      <td>9</td>\n",
              "      <td>1</td>\n",
              "      <td>1</td>\n",
              "      <td>1</td>\n",
              "      <td>0</td>\n",
              "      <td>0</td>\n",
              "      <td>1</td>\n",
              "      <td>0</td>\n",
              "      <td>3</td>\n",
              "      <td>0</td>\n",
              "      <td>45</td>\n",
              "      <td>60000</td>\n",
              "      <td>366</td>\n",
              "      <td>3</td>\n",
              "      <td>235</td>\n",
              "      <td>2</td>\n",
              "      <td>169</td>\n",
              "      <td>12</td>\n",
              "    </tr>\n",
              "    <tr>\n",
              "      <th>35015</th>\n",
              "      <td>9</td>\n",
              "      <td>1</td>\n",
              "      <td>1</td>\n",
              "      <td>1</td>\n",
              "      <td>0</td>\n",
              "      <td>1</td>\n",
              "      <td>0</td>\n",
              "      <td>0</td>\n",
              "      <td>8</td>\n",
              "      <td>0</td>\n",
              "      <td>32</td>\n",
              "      <td>60000</td>\n",
              "      <td>-360</td>\n",
              "      <td>6</td>\n",
              "      <td>131</td>\n",
              "      <td>2</td>\n",
              "      <td>344</td>\n",
              "      <td>2</td>\n",
              "    </tr>\n",
              "    <tr>\n",
              "      <th>41008</th>\n",
              "      <td>0</td>\n",
              "      <td>2</td>\n",
              "      <td>2</td>\n",
              "      <td>0</td>\n",
              "      <td>0</td>\n",
              "      <td>0</td>\n",
              "      <td>0</td>\n",
              "      <td>0</td>\n",
              "      <td>1</td>\n",
              "      <td>2</td>\n",
              "      <td>36</td>\n",
              "      <td>50000</td>\n",
              "      <td>994</td>\n",
              "      <td>13</td>\n",
              "      <td>185</td>\n",
              "      <td>2</td>\n",
              "      <td>105</td>\n",
              "      <td>3</td>\n",
              "    </tr>\n",
              "    <tr>\n",
              "      <th>40646</th>\n",
              "      <td>8</td>\n",
              "      <td>2</td>\n",
              "      <td>1</td>\n",
              "      <td>1</td>\n",
              "      <td>0</td>\n",
              "      <td>1</td>\n",
              "      <td>0</td>\n",
              "      <td>1</td>\n",
              "      <td>1</td>\n",
              "      <td>0</td>\n",
              "      <td>25</td>\n",
              "      <td>4000</td>\n",
              "      <td>41</td>\n",
              "      <td>5</td>\n",
              "      <td>100</td>\n",
              "      <td>2</td>\n",
              "      <td>93</td>\n",
              "      <td>2</td>\n",
              "    </tr>\n",
              "  </tbody>\n",
              "</table>\n",
              "</div>"
            ],
            "text/plain": [
              "       job  marital  education  targeted  ...  duration  campaign  pdays  previous\n",
              "40829    0        2          1         1  ...       221         1    461         1\n",
              "29715    9        1          1         1  ...       235         2    169        12\n",
              "35015    9        1          1         1  ...       131         2    344         2\n",
              "41008    0        2          2         0  ...       185         2    105         3\n",
              "40646    8        2          1         1  ...       100         2     93         2\n",
              "\n",
              "[5 rows x 18 columns]"
            ]
          },
          "metadata": {
            "tags": []
          },
          "execution_count": 45
        }
      ]
    },
    {
      "cell_type": "code",
      "metadata": {
        "colab": {
          "base_uri": "https://localhost:8080/",
          "height": 195
        },
        "id": "2DCThrNx9sSZ",
        "outputId": "0649dd6b-f9ce-4924-8930-bb93273f17ca"
      },
      "source": [
        "X_train_sm = sm.add_constant(X_train[cols])\n",
        "X_train_sm.head()\n",
        "\n",
        "#here we are adding the intercept to the equation manually for the statsmodels to work. "
      ],
      "execution_count": 46,
      "outputs": [
        {
          "output_type": "execute_result",
          "data": {
            "text/html": [
              "<div>\n",
              "<style scoped>\n",
              "    .dataframe tbody tr th:only-of-type {\n",
              "        vertical-align: middle;\n",
              "    }\n",
              "\n",
              "    .dataframe tbody tr th {\n",
              "        vertical-align: top;\n",
              "    }\n",
              "\n",
              "    .dataframe thead th {\n",
              "        text-align: right;\n",
              "    }\n",
              "</style>\n",
              "<table border=\"1\" class=\"dataframe\">\n",
              "  <thead>\n",
              "    <tr style=\"text-align: right;\">\n",
              "      <th></th>\n",
              "      <th>const</th>\n",
              "      <th>default</th>\n",
              "      <th>housing</th>\n",
              "      <th>loan</th>\n",
              "      <th>contact</th>\n",
              "      <th>poutcome</th>\n",
              "    </tr>\n",
              "  </thead>\n",
              "  <tbody>\n",
              "    <tr>\n",
              "      <th>40829</th>\n",
              "      <td>1.0</td>\n",
              "      <td>0</td>\n",
              "      <td>1</td>\n",
              "      <td>0</td>\n",
              "      <td>0</td>\n",
              "      <td>2</td>\n",
              "    </tr>\n",
              "    <tr>\n",
              "      <th>29715</th>\n",
              "      <td>1.0</td>\n",
              "      <td>0</td>\n",
              "      <td>0</td>\n",
              "      <td>1</td>\n",
              "      <td>0</td>\n",
              "      <td>0</td>\n",
              "    </tr>\n",
              "    <tr>\n",
              "      <th>35015</th>\n",
              "      <td>1.0</td>\n",
              "      <td>0</td>\n",
              "      <td>1</td>\n",
              "      <td>0</td>\n",
              "      <td>0</td>\n",
              "      <td>0</td>\n",
              "    </tr>\n",
              "    <tr>\n",
              "      <th>41008</th>\n",
              "      <td>1.0</td>\n",
              "      <td>0</td>\n",
              "      <td>0</td>\n",
              "      <td>0</td>\n",
              "      <td>0</td>\n",
              "      <td>2</td>\n",
              "    </tr>\n",
              "    <tr>\n",
              "      <th>40646</th>\n",
              "      <td>1.0</td>\n",
              "      <td>0</td>\n",
              "      <td>1</td>\n",
              "      <td>0</td>\n",
              "      <td>1</td>\n",
              "      <td>0</td>\n",
              "    </tr>\n",
              "  </tbody>\n",
              "</table>\n",
              "</div>"
            ],
            "text/plain": [
              "       const  default  housing  loan  contact  poutcome\n",
              "40829    1.0        0        1     0        0         2\n",
              "29715    1.0        0        0     1        0         0\n",
              "35015    1.0        0        1     0        0         0\n",
              "41008    1.0        0        0     0        0         2\n",
              "40646    1.0        0        1     0        1         0"
            ]
          },
          "metadata": {
            "tags": []
          },
          "execution_count": 46
        }
      ]
    },
    {
      "cell_type": "code",
      "metadata": {
        "id": "7QFy9NmS9sSZ"
      },
      "source": [
        "lr1 = sm.OLS(y_train, X_train_sm).fit()"
      ],
      "execution_count": 47,
      "outputs": []
    },
    {
      "cell_type": "code",
      "metadata": {
        "colab": {
          "base_uri": "https://localhost:8080/",
          "height": 506
        },
        "id": "Iu40zawI9sSa",
        "outputId": "14173bf1-38c4-42b0-bc6c-2a605f7b628d"
      },
      "source": [
        "lr1.summary()"
      ],
      "execution_count": 48,
      "outputs": [
        {
          "output_type": "execute_result",
          "data": {
            "text/html": [
              "<table class=\"simpletable\">\n",
              "<caption>OLS Regression Results</caption>\n",
              "<tr>\n",
              "  <th>Dep. Variable:</th>        <td>response</td>     <th>  R-squared:         </th> <td>   0.223</td>\n",
              "</tr>\n",
              "<tr>\n",
              "  <th>Model:</th>                   <td>OLS</td>       <th>  Adj. R-squared:    </th> <td>   0.222</td>\n",
              "</tr>\n",
              "<tr>\n",
              "  <th>Method:</th>             <td>Least Squares</td>  <th>  F-statistic:       </th> <td>   378.4</td>\n",
              "</tr>\n",
              "<tr>\n",
              "  <th>Date:</th>             <td>Sun, 07 Mar 2021</td> <th>  Prob (F-statistic):</th>  <td>  0.00</td> \n",
              "</tr>\n",
              "<tr>\n",
              "  <th>Time:</th>                 <td>13:57:20</td>     <th>  Log-Likelihood:    </th> <td> -2842.3</td>\n",
              "</tr>\n",
              "<tr>\n",
              "  <th>No. Observations:</th>      <td>  6605</td>      <th>  AIC:               </th> <td>   5697.</td>\n",
              "</tr>\n",
              "<tr>\n",
              "  <th>Df Residuals:</th>          <td>  6599</td>      <th>  BIC:               </th> <td>   5737.</td>\n",
              "</tr>\n",
              "<tr>\n",
              "  <th>Df Model:</th>              <td>     5</td>      <th>                     </th>     <td> </td>   \n",
              "</tr>\n",
              "<tr>\n",
              "  <th>Covariance Type:</th>      <td>nonrobust</td>    <th>                     </th>     <td> </td>   \n",
              "</tr>\n",
              "</table>\n",
              "<table class=\"simpletable\">\n",
              "<tr>\n",
              "      <td></td>        <th>coef</th>     <th>std err</th>      <th>t</th>      <th>P>|t|</th>  <th>[0.025</th>    <th>0.975]</th>  \n",
              "</tr>\n",
              "<tr>\n",
              "  <th>const</th>    <td>    0.2556</td> <td>    0.010</td> <td>   26.881</td> <td> 0.000</td> <td>    0.237</td> <td>    0.274</td>\n",
              "</tr>\n",
              "<tr>\n",
              "  <th>default</th>  <td>   -0.0629</td> <td>    0.056</td> <td>   -1.127</td> <td> 0.260</td> <td>   -0.172</td> <td>    0.047</td>\n",
              "</tr>\n",
              "<tr>\n",
              "  <th>housing</th>  <td>   -0.1904</td> <td>    0.010</td> <td>  -19.192</td> <td> 0.000</td> <td>   -0.210</td> <td>   -0.171</td>\n",
              "</tr>\n",
              "<tr>\n",
              "  <th>loan</th>     <td>   -0.0730</td> <td>    0.014</td> <td>   -5.394</td> <td> 0.000</td> <td>   -0.099</td> <td>   -0.046</td>\n",
              "</tr>\n",
              "<tr>\n",
              "  <th>contact</th>  <td>   -0.0618</td> <td>    0.014</td> <td>   -4.346</td> <td> 0.000</td> <td>   -0.090</td> <td>   -0.034</td>\n",
              "</tr>\n",
              "<tr>\n",
              "  <th>poutcome</th> <td>    0.1873</td> <td>    0.006</td> <td>   30.507</td> <td> 0.000</td> <td>    0.175</td> <td>    0.199</td>\n",
              "</tr>\n",
              "</table>\n",
              "<table class=\"simpletable\">\n",
              "<tr>\n",
              "  <th>Omnibus:</th>       <td>750.000</td> <th>  Durbin-Watson:     </th> <td>   2.039</td> \n",
              "</tr>\n",
              "<tr>\n",
              "  <th>Prob(Omnibus):</th> <td> 0.000</td>  <th>  Jarque-Bera (JB):  </th> <td>1028.279</td> \n",
              "</tr>\n",
              "<tr>\n",
              "  <th>Skew:</th>          <td> 0.954</td>  <th>  Prob(JB):          </th> <td>5.15e-224</td>\n",
              "</tr>\n",
              "<tr>\n",
              "  <th>Kurtosis:</th>      <td> 3.306</td>  <th>  Cond. No.          </th> <td>    16.9</td> \n",
              "</tr>\n",
              "</table><br/><br/>Warnings:<br/>[1] Standard Errors assume that the covariance matrix of the errors is correctly specified."
            ],
            "text/plain": [
              "<class 'statsmodels.iolib.summary.Summary'>\n",
              "\"\"\"\n",
              "                            OLS Regression Results                            \n",
              "==============================================================================\n",
              "Dep. Variable:               response   R-squared:                       0.223\n",
              "Model:                            OLS   Adj. R-squared:                  0.222\n",
              "Method:                 Least Squares   F-statistic:                     378.4\n",
              "Date:                Sun, 07 Mar 2021   Prob (F-statistic):               0.00\n",
              "Time:                        13:57:20   Log-Likelihood:                -2842.3\n",
              "No. Observations:                6605   AIC:                             5697.\n",
              "Df Residuals:                    6599   BIC:                             5737.\n",
              "Df Model:                           5                                         \n",
              "Covariance Type:            nonrobust                                         \n",
              "==============================================================================\n",
              "                 coef    std err          t      P>|t|      [0.025      0.975]\n",
              "------------------------------------------------------------------------------\n",
              "const          0.2556      0.010     26.881      0.000       0.237       0.274\n",
              "default       -0.0629      0.056     -1.127      0.260      -0.172       0.047\n",
              "housing       -0.1904      0.010    -19.192      0.000      -0.210      -0.171\n",
              "loan          -0.0730      0.014     -5.394      0.000      -0.099      -0.046\n",
              "contact       -0.0618      0.014     -4.346      0.000      -0.090      -0.034\n",
              "poutcome       0.1873      0.006     30.507      0.000       0.175       0.199\n",
              "==============================================================================\n",
              "Omnibus:                      750.000   Durbin-Watson:                   2.039\n",
              "Prob(Omnibus):                  0.000   Jarque-Bera (JB):             1028.279\n",
              "Skew:                           0.954   Prob(JB):                    5.15e-224\n",
              "Kurtosis:                       3.306   Cond. No.                         16.9\n",
              "==============================================================================\n",
              "\n",
              "Warnings:\n",
              "[1] Standard Errors assume that the covariance matrix of the errors is correctly specified.\n",
              "\"\"\""
            ]
          },
          "metadata": {
            "tags": []
          },
          "execution_count": 48
        }
      ]
    },
    {
      "cell_type": "code",
      "metadata": {
        "colab": {
          "base_uri": "https://localhost:8080/"
        },
        "id": "ctFCIYi49sSb",
        "outputId": "c6723450-976d-491f-a794-c969a1e246b8"
      },
      "source": [
        "from scipy.stats import sem\n",
        "from numpy import mean\n",
        "from numpy import std\n",
        "from sklearn.datasets import make_classification\n",
        "from sklearn.model_selection import RepeatedKFold\n",
        "from sklearn.model_selection import cross_val_score\n",
        "from sklearn.linear_model import LogisticRegression\n",
        "from matplotlib import pyplot\n",
        " \n",
        "# evaluate a model with a given number of repeats\n",
        "def evaluate_model(X, y, repeats):\n",
        " # prepare the cross-validation procedure\n",
        " cv = RepeatedKFold(n_splits=10, n_repeats=repeats, random_state=1)\n",
        " # create model\n",
        " model = LogisticRegression()\n",
        " # evaluate model\n",
        " scores = cross_val_score(model, X, y, scoring='accuracy', cv=cv, n_jobs=-1)\n",
        " return scores\n",
        " \n",
        "# create dataset\n",
        "X, y = make_classification(n_samples=1000, n_features=20, n_informative=15, n_redundant=5, random_state=1)\n",
        "# configurations to test\n",
        "repeats = range(1,16)\n",
        "results = list()\n",
        "for r in repeats:\n",
        " # evaluate using a given number of repeats\n",
        " scores = evaluate_model(X, y, r)\n",
        " # summarize\n",
        " print('>%d mean=%.4f se=%.3f' % (r, mean(scores), sem(scores)))\n",
        " # store\n",
        " results.append(scores)\n"
      ],
      "execution_count": 49,
      "outputs": [
        {
          "output_type": "stream",
          "text": [
            ">1 mean=0.8680 se=0.011\n",
            ">2 mean=0.8675 se=0.008\n",
            ">3 mean=0.8673 se=0.006\n",
            ">4 mean=0.8670 se=0.006\n",
            ">5 mean=0.8658 se=0.005\n",
            ">6 mean=0.8655 se=0.004\n",
            ">7 mean=0.8651 se=0.004\n",
            ">8 mean=0.8651 se=0.004\n",
            ">9 mean=0.8656 se=0.003\n",
            ">10 mean=0.8658 se=0.003\n",
            ">11 mean=0.8655 se=0.003\n",
            ">12 mean=0.8654 se=0.003\n",
            ">13 mean=0.8652 se=0.003\n",
            ">14 mean=0.8651 se=0.003\n",
            ">15 mean=0.8653 se=0.003\n"
          ],
          "name": "stdout"
        }
      ]
    },
    {
      "cell_type": "code",
      "metadata": {
        "colab": {
          "base_uri": "https://localhost:8080/",
          "height": 265
        },
        "id": "hWW0Qlax9sSc",
        "outputId": "ff2e26a4-0905-4983-b942-873fdfdb236c"
      },
      "source": [
        "# plot the results\n",
        "pyplot.boxplot(results, labels=[str(r) for r in repeats], showmeans=True)\n",
        "pyplot.show()"
      ],
      "execution_count": 50,
      "outputs": [
        {
          "output_type": "display_data",
          "data": {
            "image/png": "[encoded data removed]",
            "text/plain": [
              "<Figure size 432x288 with 1 Axes>"
            ]
          },
          "metadata": {
            "tags": [],
            "needs_background": "light"
          }
        }
      ]
    },
    {
      "cell_type": "code",
      "metadata": {
        "id": "0lFJdFpc9sSe"
      },
      "source": [
        ""
      ],
      "execution_count": 50,
      "outputs": []
    },
    {
      "cell_type": "code",
      "metadata": {
        "id": "NJ9LU38u9sSe"
      },
      "source": [
        ""
      ],
      "execution_count": 50,
      "outputs": []
    },
    {
      "cell_type": "code",
      "metadata": {
        "id": "ruTFn5l29sSe"
      },
      "source": [
        ""
      ],
      "execution_count": 50,
      "outputs": []
    },
    {
      "cell_type": "code",
      "metadata": {
        "colab": {
          "base_uri": "https://localhost:8080/",
          "height": 580
        },
        "id": "1lK1xjqJ9sSe",
        "outputId": "f54a8d60-76a0-46fd-9a7e-458611a41008"
      },
      "source": [
        "### Variance Inflation Factor\n",
        "\n",
        "from statsmodels.stats.outliers_influence import variance_inflation_factor\n",
        "\n",
        "\n",
        "vif = pd.DataFrame()\n",
        "vif['Features'] = X_train.columns\n",
        "vif['VIF'] = [variance_inflation_factor(X_train.values, i) for i in range(X_train.shape[1])]\n",
        "vif['VIF'] = round(vif['VIF'], 2)\n",
        "vif = vif.sort_values(by = \"VIF\", ascending = False)\n",
        "vif"
      ],
      "execution_count": 51,
      "outputs": [
        {
          "output_type": "execute_result",
          "data": {
            "text/html": [
              "<div>\n",
              "<style scoped>\n",
              "    .dataframe tbody tr th:only-of-type {\n",
              "        vertical-align: middle;\n",
              "    }\n",
              "\n",
              "    .dataframe tbody tr th {\n",
              "        vertical-align: top;\n",
              "    }\n",
              "\n",
              "    .dataframe thead th {\n",
              "        text-align: right;\n",
              "    }\n",
              "</style>\n",
              "<table border=\"1\" class=\"dataframe\">\n",
              "  <thead>\n",
              "    <tr style=\"text-align: right;\">\n",
              "      <th></th>\n",
              "      <th>Features</th>\n",
              "      <th>VIF</th>\n",
              "    </tr>\n",
              "  </thead>\n",
              "  <tbody>\n",
              "    <tr>\n",
              "      <th>10</th>\n",
              "      <td>age</td>\n",
              "      <td>11.79</td>\n",
              "    </tr>\n",
              "    <tr>\n",
              "      <th>2</th>\n",
              "      <td>education</td>\n",
              "      <td>6.43</td>\n",
              "    </tr>\n",
              "    <tr>\n",
              "      <th>3</th>\n",
              "      <td>targeted</td>\n",
              "      <td>6.43</td>\n",
              "    </tr>\n",
              "    <tr>\n",
              "      <th>11</th>\n",
              "      <td>salary</td>\n",
              "      <td>5.38</td>\n",
              "    </tr>\n",
              "    <tr>\n",
              "      <th>16</th>\n",
              "      <td>pdays</td>\n",
              "      <td>5.21</td>\n",
              "    </tr>\n",
              "    <tr>\n",
              "      <th>1</th>\n",
              "      <td>marital</td>\n",
              "      <td>4.35</td>\n",
              "    </tr>\n",
              "    <tr>\n",
              "      <th>13</th>\n",
              "      <td>day</td>\n",
              "      <td>4.10</td>\n",
              "    </tr>\n",
              "    <tr>\n",
              "      <th>8</th>\n",
              "      <td>month</td>\n",
              "      <td>3.60</td>\n",
              "    </tr>\n",
              "    <tr>\n",
              "      <th>5</th>\n",
              "      <td>housing</td>\n",
              "      <td>3.14</td>\n",
              "    </tr>\n",
              "    <tr>\n",
              "      <th>15</th>\n",
              "      <td>campaign</td>\n",
              "      <td>2.87</td>\n",
              "    </tr>\n",
              "    <tr>\n",
              "      <th>0</th>\n",
              "      <td>job</td>\n",
              "      <td>2.85</td>\n",
              "    </tr>\n",
              "    <tr>\n",
              "      <th>14</th>\n",
              "      <td>duration</td>\n",
              "      <td>2.26</td>\n",
              "    </tr>\n",
              "    <tr>\n",
              "      <th>17</th>\n",
              "      <td>previous</td>\n",
              "      <td>1.91</td>\n",
              "    </tr>\n",
              "    <tr>\n",
              "      <th>9</th>\n",
              "      <td>poutcome</td>\n",
              "      <td>1.76</td>\n",
              "    </tr>\n",
              "    <tr>\n",
              "      <th>12</th>\n",
              "      <td>balance</td>\n",
              "      <td>1.30</td>\n",
              "    </tr>\n",
              "    <tr>\n",
              "      <th>6</th>\n",
              "      <td>loan</td>\n",
              "      <td>1.20</td>\n",
              "    </tr>\n",
              "    <tr>\n",
              "      <th>7</th>\n",
              "      <td>contact</td>\n",
              "      <td>1.15</td>\n",
              "    </tr>\n",
              "    <tr>\n",
              "      <th>4</th>\n",
              "      <td>default</td>\n",
              "      <td>1.02</td>\n",
              "    </tr>\n",
              "  </tbody>\n",
              "</table>\n",
              "</div>"
            ],
            "text/plain": [
              "     Features    VIF\n",
              "10        age  11.79\n",
              "2   education   6.43\n",
              "3    targeted   6.43\n",
              "11     salary   5.38\n",
              "16      pdays   5.21\n",
              "1     marital   4.35\n",
              "13        day   4.10\n",
              "8       month   3.60\n",
              "5     housing   3.14\n",
              "15   campaign   2.87\n",
              "0         job   2.85\n",
              "14   duration   2.26\n",
              "17   previous   1.91\n",
              "9    poutcome   1.76\n",
              "12    balance   1.30\n",
              "6        loan   1.20\n",
              "7     contact   1.15\n",
              "4     default   1.02"
            ]
          },
          "metadata": {
            "tags": []
          },
          "execution_count": 51
        }
      ]
    },
    {
      "cell_type": "markdown",
      "metadata": {
        "id": "2vsV5sBe9sSf"
      },
      "source": [
        "### Random Forest "
      ]
    },
    {
      "cell_type": "code",
      "metadata": {
        "id": "vPWoe58g9sSf"
      },
      "source": [
        "from sklearn.ensemble import RandomForestClassifier\n",
        "from sklearn.metrics import classification_report\n",
        "from sklearn.feature_selection import SelectFromModel"
      ],
      "execution_count": 52,
      "outputs": []
    },
    {
      "cell_type": "code",
      "metadata": {
        "id": "kc0d2m_E9sSf"
      },
      "source": [
        "rfc = RandomForestClassifier(max_depth=5, random_state=40, max_leaf_nodes=50)"
      ],
      "execution_count": 53,
      "outputs": []
    },
    {
      "cell_type": "code",
      "metadata": {
        "colab": {
          "base_uri": "https://localhost:8080/"
        },
        "id": "GAb7BCG59sSg",
        "outputId": "7d4a0a92-da4d-4522-f6c9-36ee36d9653f"
      },
      "source": [
        "rfc.fit(X_train,y_train)"
      ],
      "execution_count": 54,
      "outputs": [
        {
          "output_type": "execute_result",
          "data": {
            "text/plain": [
              "RandomForestClassifier(bootstrap=True, ccp_alpha=0.0, class_weight=None,\n",
              "                       criterion='gini', max_depth=5, max_features='auto',\n",
              "                       max_leaf_nodes=50, max_samples=None,\n",
              "                       min_impurity_decrease=0.0, min_impurity_split=None,\n",
              "                       min_samples_leaf=1, min_samples_split=2,\n",
              "                       min_weight_fraction_leaf=0.0, n_estimators=100,\n",
              "                       n_jobs=None, oob_score=False, random_state=40, verbose=0,\n",
              "                       warm_start=False)"
            ]
          },
          "metadata": {
            "tags": []
          },
          "execution_count": 54
        }
      ]
    },
    {
      "cell_type": "code",
      "metadata": {
        "colab": {
          "base_uri": "https://localhost:8080/"
        },
        "id": "1R1Rb8lx9sSg",
        "outputId": "b0bcfe3f-99d8-4555-9f8f-6b6da6882e06"
      },
      "source": [
        "cv1_score= cross_val_score(rfc,X_train,y_train, cv=5)\n",
        "np.mean(cv1_score)"
      ],
      "execution_count": 55,
      "outputs": [
        {
          "output_type": "execute_result",
          "data": {
            "text/plain": [
              "0.8380015140045419"
            ]
          },
          "metadata": {
            "tags": []
          },
          "execution_count": 55
        }
      ]
    },
    {
      "cell_type": "code",
      "metadata": {
        "id": "OfglY-so9sSg"
      },
      "source": [
        "y_pred1 = rfc.predict(X_test)"
      ],
      "execution_count": 56,
      "outputs": []
    },
    {
      "cell_type": "code",
      "metadata": {
        "colab": {
          "base_uri": "https://localhost:8080/"
        },
        "id": "lXBR7H2y9sSg",
        "outputId": "185e0e32-5a26-43e5-f0ed-63850f4dba58"
      },
      "source": [
        "print(classification_report(y_test, y_pred1))"
      ],
      "execution_count": 57,
      "outputs": [
        {
          "output_type": "stream",
          "text": [
            "              precision    recall  f1-score   support\n",
            "\n",
            "           0       0.86      0.96      0.91      1279\n",
            "           1       0.78      0.46      0.58       373\n",
            "\n",
            "    accuracy                           0.85      1652\n",
            "   macro avg       0.82      0.71      0.74      1652\n",
            "weighted avg       0.84      0.85      0.83      1652\n",
            "\n"
          ],
          "name": "stdout"
        }
      ]
    },
    {
      "cell_type": "code",
      "metadata": {
        "colab": {
          "base_uri": "https://localhost:8080/"
        },
        "id": "23Hclku89sSh",
        "outputId": "0dd9b145-42a1-4b3a-9dd3-fa488bdade69"
      },
      "source": [
        "f1_score(y_test,y_pred1)"
      ],
      "execution_count": 58,
      "outputs": [
        {
          "output_type": "execute_result",
          "data": {
            "text/plain": [
              "0.5815126050420169"
            ]
          },
          "metadata": {
            "tags": []
          },
          "execution_count": 58
        }
      ]
    },
    {
      "cell_type": "code",
      "metadata": {
        "colab": {
          "base_uri": "https://localhost:8080/"
        },
        "id": "SEWekSky9sSh",
        "outputId": "f1150207-efd2-4a28-a662-ab4efd766437"
      },
      "source": [
        "confusion_matrix(y_test,y_pred1)"
      ],
      "execution_count": 59,
      "outputs": [
        {
          "output_type": "execute_result",
          "data": {
            "text/plain": [
              "array([[1230,   49],\n",
              "       [ 200,  173]])"
            ]
          },
          "metadata": {
            "tags": []
          },
          "execution_count": 59
        }
      ]
    },
    {
      "cell_type": "code",
      "metadata": {
        "id": "dWtqAF-g9sSi"
      },
      "source": [
        "from sklearn.metrics import roc_auc_score"
      ],
      "execution_count": 60,
      "outputs": []
    },
    {
      "cell_type": "code",
      "metadata": {
        "colab": {
          "base_uri": "https://localhost:8080/"
        },
        "id": "JdX8undZ9sSi",
        "outputId": "4ad9759c-4569-4da6-c9a1-eafa71fb1d05"
      },
      "source": [
        "roc_auc_score(y_test,y_pred1)"
      ],
      "execution_count": 61,
      "outputs": [
        {
          "output_type": "execute_result",
          "data": {
            "text/plain": [
              "0.712747894949766"
            ]
          },
          "metadata": {
            "tags": []
          },
          "execution_count": 61
        }
      ]
    },
    {
      "cell_type": "code",
      "metadata": {
        "colab": {
          "base_uri": "https://localhost:8080/"
        },
        "id": "-xyMvAVM9sSi",
        "outputId": "73882772-7cc1-429a-fb5e-b460d1518fb0"
      },
      "source": [
        "sel = SelectFromModel(RandomForestClassifier(n_estimators = 100))\n",
        "sel.fit(X_train, y_train)\n"
      ],
      "execution_count": 62,
      "outputs": [
        {
          "output_type": "execute_result",
          "data": {
            "text/plain": [
              "SelectFromModel(estimator=RandomForestClassifier(bootstrap=True, ccp_alpha=0.0,\n",
              "                                                 class_weight=None,\n",
              "                                                 criterion='gini',\n",
              "                                                 max_depth=None,\n",
              "                                                 max_features='auto',\n",
              "                                                 max_leaf_nodes=None,\n",
              "                                                 max_samples=None,\n",
              "                                                 min_impurity_decrease=0.0,\n",
              "                                                 min_impurity_split=None,\n",
              "                                                 min_samples_leaf=1,\n",
              "                                                 min_samples_split=2,\n",
              "                                                 min_weight_fraction_leaf=0.0,\n",
              "                                                 n_estimators=100, n_jobs=None,\n",
              "                                                 oob_score=False,\n",
              "                                                 random_state=None, verbose=0,\n",
              "                                                 warm_start=False),\n",
              "                max_features=None, norm_order=1, prefit=False, threshold=None)"
            ]
          },
          "metadata": {
            "tags": []
          },
          "execution_count": 62
        }
      ]
    },
    {
      "cell_type": "code",
      "metadata": {
        "colab": {
          "base_uri": "https://localhost:8080/"
        },
        "id": "-jXnHuo79sSj",
        "outputId": "53f55dfe-bed6-4ed1-bc80-6a988e324229"
      },
      "source": [
        "sel.get_support()\n"
      ],
      "execution_count": 63,
      "outputs": [
        {
          "output_type": "execute_result",
          "data": {
            "text/plain": [
              "array([False, False, False, False, False, False, False, False,  True,\n",
              "        True,  True, False,  True,  True,  True, False,  True, False])"
            ]
          },
          "metadata": {
            "tags": []
          },
          "execution_count": 63
        }
      ]
    },
    {
      "cell_type": "code",
      "metadata": {
        "colab": {
          "base_uri": "https://localhost:8080/"
        },
        "id": "6t6s2q0a9sSj",
        "outputId": "8d76f2aa-a729-483e-c190-d05d1b69a464"
      },
      "source": [
        "selected_feat= X_train.columns[(sel.get_support())]\n",
        "len(selected_feat)"
      ],
      "execution_count": 64,
      "outputs": [
        {
          "output_type": "execute_result",
          "data": {
            "text/plain": [
              "7"
            ]
          },
          "metadata": {
            "tags": []
          },
          "execution_count": 64
        }
      ]
    },
    {
      "cell_type": "code",
      "metadata": {
        "colab": {
          "base_uri": "https://localhost:8080/"
        },
        "id": "PMM-a5pg9sSj",
        "outputId": "15ea7c2a-7878-4de3-aefb-2d5efb33b50c"
      },
      "source": [
        "print(selected_feat)\n"
      ],
      "execution_count": 65,
      "outputs": [
        {
          "output_type": "stream",
          "text": [
            "Index(['month', 'poutcome', 'age', 'balance', 'day', 'duration', 'pdays'], dtype='object')\n"
          ],
          "name": "stdout"
        }
      ]
    },
    {
      "cell_type": "code",
      "metadata": {
        "colab": {
          "base_uri": "https://localhost:8080/",
          "height": 282
        },
        "id": "UC-eGThJ9sSk",
        "outputId": "d60ec1e8-c35e-464a-d07d-c014262569bb"
      },
      "source": [
        "pd.Series(sel.estimator_.feature_importances_.ravel()).hist()"
      ],
      "execution_count": 66,
      "outputs": [
        {
          "output_type": "execute_result",
          "data": {
            "text/plain": [
              "<matplotlib.axes._subplots.AxesSubplot at 0x7f2a11721950>"
            ]
          },
          "metadata": {
            "tags": []
          },
          "execution_count": 66
        },
        {
          "output_type": "display_data",
          "data": {
            "image/png": "[encoded data removed]",
            "text/plain": [
              "<Figure size 432x288 with 1 Axes>"
            ]
          },
          "metadata": {
            "tags": [],
            "needs_background": "light"
          }
        }
      ]
    },
    {
      "cell_type": "markdown",
      "metadata": {
        "id": "8xJqnDVZ9sSk"
      },
      "source": [
        "### Recursive Feature Elimination"
      ]
    },
    {
      "cell_type": "code",
      "metadata": {
        "colab": {
          "base_uri": "https://localhost:8080/"
        },
        "id": "HdDyU_WD9sSk",
        "outputId": "7e4505c3-0f43-4914-9bc3-f26ac1c0c177"
      },
      "source": [
        "from sklearn.feature_selection import RFE\n",
        "from sklearn.preprocessing import MinMaxScaler\n",
        "scaler = MinMaxScaler()\n",
        "rfe1 = RFE(rfc, 5)\n",
        "rfe1.fit(X_train,y_train)"
      ],
      "execution_count": 67,
      "outputs": [
        {
          "output_type": "execute_result",
          "data": {
            "text/plain": [
              "RFE(estimator=RandomForestClassifier(bootstrap=True, ccp_alpha=0.0,\n",
              "                                     class_weight=None, criterion='gini',\n",
              "                                     max_depth=5, max_features='auto',\n",
              "                                     max_leaf_nodes=50, max_samples=None,\n",
              "                                     min_impurity_decrease=0.0,\n",
              "                                     min_impurity_split=None,\n",
              "                                     min_samples_leaf=1, min_samples_split=2,\n",
              "                                     min_weight_fraction_leaf=0.0,\n",
              "                                     n_estimators=100, n_jobs=None,\n",
              "                                     oob_score=False, random_state=40,\n",
              "                                     verbose=0, warm_start=False),\n",
              "    n_features_to_select=5, step=1, verbose=0)"
            ]
          },
          "metadata": {
            "tags": []
          },
          "execution_count": 67
        }
      ]
    },
    {
      "cell_type": "code",
      "metadata": {
        "colab": {
          "base_uri": "https://localhost:8080/"
        },
        "id": "iHWMdEnU9sSp",
        "outputId": "e607bda3-41c7-4a7d-8ec6-7ad5f670fddb"
      },
      "source": [
        "rfe1.support_"
      ],
      "execution_count": 68,
      "outputs": [
        {
          "output_type": "execute_result",
          "data": {
            "text/plain": [
              "array([False, False, False, False, False,  True, False, False,  True,\n",
              "        True, False, False, False, False,  True, False,  True, False])"
            ]
          },
          "metadata": {
            "tags": []
          },
          "execution_count": 68
        }
      ]
    },
    {
      "cell_type": "code",
      "metadata": {
        "colab": {
          "base_uri": "https://localhost:8080/"
        },
        "id": "7veV4-Uc9sSq",
        "outputId": "21ab9666-a520-465a-f8b4-e3868cc71e30"
      },
      "source": [
        "X_train.columns[rfe1.support_]"
      ],
      "execution_count": 69,
      "outputs": [
        {
          "output_type": "execute_result",
          "data": {
            "text/plain": [
              "Index(['housing', 'month', 'poutcome', 'duration', 'pdays'], dtype='object')"
            ]
          },
          "metadata": {
            "tags": []
          },
          "execution_count": 69
        }
      ]
    },
    {
      "cell_type": "code",
      "metadata": {
        "id": "yjdIHsNS9sSr"
      },
      "source": [
        "cols = X_train.columns[rfe1.support_]"
      ],
      "execution_count": 70,
      "outputs": []
    },
    {
      "cell_type": "code",
      "metadata": {
        "colab": {
          "base_uri": "https://localhost:8080/"
        },
        "id": "o73PDPIT9sSs",
        "outputId": "ada90df1-1166-432b-b600-6f394dee9edd"
      },
      "source": [
        "rfc.fit(X_train[cols],y_train)"
      ],
      "execution_count": 71,
      "outputs": [
        {
          "output_type": "execute_result",
          "data": {
            "text/plain": [
              "RandomForestClassifier(bootstrap=True, ccp_alpha=0.0, class_weight=None,\n",
              "                       criterion='gini', max_depth=5, max_features='auto',\n",
              "                       max_leaf_nodes=50, max_samples=None,\n",
              "                       min_impurity_decrease=0.0, min_impurity_split=None,\n",
              "                       min_samples_leaf=1, min_samples_split=2,\n",
              "                       min_weight_fraction_leaf=0.0, n_estimators=100,\n",
              "                       n_jobs=None, oob_score=False, random_state=40, verbose=0,\n",
              "                       warm_start=False)"
            ]
          },
          "metadata": {
            "tags": []
          },
          "execution_count": 71
        }
      ]
    },
    {
      "cell_type": "code",
      "metadata": {
        "id": "9onx2MwO9sSt"
      },
      "source": [
        "y_pred3 = rfc.predict(X_test[cols])"
      ],
      "execution_count": 72,
      "outputs": []
    },
    {
      "cell_type": "code",
      "metadata": {
        "colab": {
          "base_uri": "https://localhost:8080/"
        },
        "id": "ceWfr5k-9sSt",
        "outputId": "b5b82a0d-47e5-4ecd-96b8-01f6d8d590a5"
      },
      "source": [
        "f1_score(y_pred3,y_test)"
      ],
      "execution_count": 73,
      "outputs": [
        {
          "output_type": "execute_result",
          "data": {
            "text/plain": [
              "0.6190476190476191"
            ]
          },
          "metadata": {
            "tags": []
          },
          "execution_count": 73
        }
      ]
    },
    {
      "cell_type": "code",
      "metadata": {
        "colab": {
          "base_uri": "https://localhost:8080/"
        },
        "id": "VMFSizZo9sSu",
        "outputId": "a00e0880-1051-4cee-ca8b-4ff1f458104f"
      },
      "source": [
        "confusion_matrix(y_pred3,y_test)"
      ],
      "execution_count": 74,
      "outputs": [
        {
          "output_type": "execute_result",
          "data": {
            "text/plain": [
              "array([[1217,  178],\n",
              "       [  62,  195]])"
            ]
          },
          "metadata": {
            "tags": []
          },
          "execution_count": 74
        }
      ]
    },
    {
      "cell_type": "code",
      "metadata": {
        "id": "nJbs-P6F9sSu"
      },
      "source": [
        "from numpy import mean\n",
        "from numpy import std\n",
        "from numpy import absolute\n",
        "from sklearn.model_selection import LeaveOneOut\n",
        "from sklearn.ensemble import RandomForestRegressor"
      ],
      "execution_count": 75,
      "outputs": []
    },
    {
      "cell_type": "code",
      "metadata": {
        "colab": {
          "base_uri": "https://localhost:8080/"
        },
        "id": "L0ZVSgIr9sSv",
        "outputId": "116179f4-d863-4d1a-bef8-ccac717c050d"
      },
      "source": [
        "data = raw_data.values\n",
        "# split into inputs and outputs\n",
        "X, y = data[:, :-1], data[:, -1]\n",
        "print(X.shape, y.shape)"
      ],
      "execution_count": 76,
      "outputs": [
        {
          "output_type": "stream",
          "text": [
            "(45211, 18) (45211,)\n"
          ],
          "name": "stdout"
        }
      ]
    },
    {
      "cell_type": "code",
      "metadata": {
        "id": "yxnJqME29sSv"
      },
      "source": [
        "# create loocv procedure\n",
        "cv = LeaveOneOut()"
      ],
      "execution_count": 77,
      "outputs": []
    },
    {
      "cell_type": "code",
      "metadata": {
        "id": "szUEgLq99sSw"
      },
      "source": [
        "# create model\n",
        "model = RandomForestRegressor(random_state=1)"
      ],
      "execution_count": 89,
      "outputs": []
    },
    {
      "cell_type": "code",
      "metadata": {
        "id": "esE4y4rU9sSw"
      },
      "source": [
        "# evaluate model\n",
        "scores = cross_val_score(model, X, y, scoring='neg_mean_absolute_error', cv=cv, n_jobs=-2)"
      ],
      "execution_count": 90,
      "outputs": []
    },
    {
      "cell_type": "code",
      "metadata": {
        "id": "p8GU71ZU9sSw"
      },
      "source": [
        "# force positive\n",
        "scores = absolute(scores)"
      ],
      "execution_count": 80,
      "outputs": []
    },
    {
      "cell_type": "code",
      "metadata": {
        "colab": {
          "base_uri": "https://localhost:8080/"
        },
        "id": "n-S6GfG29sSx",
        "outputId": "185b46d1-b17a-4dec-c794-15d966a9c7f1"
      },
      "source": [
        "# report performance\n",
        "print('MAE: %.3f (%.3f)' % (mean(scores), std(scores)))"
      ],
      "execution_count": 81,
      "outputs": [
        {
          "output_type": "stream",
          "text": [
            "MAE: 0.865 (0.031)\n"
          ],
          "name": "stdout"
        }
      ]
    },
    {
      "cell_type": "code",
      "metadata": {
        "id": "1b1e_x969sSx"
      },
      "source": [
        ""
      ],
      "execution_count": null,
      "outputs": []
    },
    {
      "cell_type": "code",
      "metadata": {
        "id": "lsyyxN_99sSx"
      },
      "source": [
        ""
      ],
      "execution_count": null,
      "outputs": []
    },
    {
      "cell_type": "code",
      "metadata": {
        "id": "aARUBS0p9sSy"
      },
      "source": [
        ""
      ],
      "execution_count": null,
      "outputs": []
    },
    {
      "cell_type": "code",
      "metadata": {
        "id": "ZwYFsytp9sSy"
      },
      "source": [
        ""
      ],
      "execution_count": null,
      "outputs": []
    },
    {
      "cell_type": "markdown",
      "metadata": {
        "id": "tQrUnn-N9sSz"
      },
      "source": [
        "### Comparing the two models"
      ]
    },
    {
      "cell_type": "code",
      "metadata": {
        "colab": {
          "base_uri": "https://localhost:8080/"
        },
        "id": "s8EFCnhJ9sSz",
        "outputId": "1d452028-480f-48a7-a30f-6a2941ed5033"
      },
      "source": [
        "print(\"F1 Score of Logistic Regression\", lrscore)\n",
        "print(\"F1 Score of Random Forest\",cv1_score.mean())"
      ],
      "execution_count": 82,
      "outputs": [
        {
          "output_type": "stream",
          "text": [
            "F1 Score of Logistic Regression 0.7857142857142857\n",
            "F1 Score of Random Forest 0.8380015140045419\n"
          ],
          "name": "stdout"
        }
      ]
    },
    {
      "cell_type": "code",
      "metadata": {
        "colab": {
          "base_uri": "https://localhost:8080/",
          "height": 306
        },
        "id": "PBSnFQAw9sS0",
        "outputId": "c615b8d8-36d9-478b-81a7-50ad31e66f8c"
      },
      "source": [
        "\n",
        "plt.bar(x=[\"LR\",\"RF\"],height=[lrscore, cv1_score.mean()])\n",
        "plt.title( \"Model Performances of Models\",fontsize = 22)\n",
        "plt.xlabel(\"Models\",fontsize = 16)\n",
        "plt.ylabel(\"F1 Score\",fontsize=16)\n",
        "plt.ylim(0,1)\n",
        "plt.show()"
      ],
      "execution_count": 83,
      "outputs": [
        {
          "output_type": "display_data",
          "data": {
            "image/png": "[encoded data removed]",
            "text/plain": [
              "<Figure size 432x288 with 1 Axes>"
            ]
          },
          "metadata": {
            "tags": [],
            "needs_background": "light"
          }
        }
      ]
    },
    {
      "cell_type": "code",
      "metadata": {
        "colab": {
          "base_uri": "https://localhost:8080/"
        },
        "id": "FP8vyzYc9sS0",
        "outputId": "7b6d2fc0-1724-4524-fbbf-be03d8eaee38"
      },
      "source": [
        "print(\"The variables considered in Logistic Regression are: \", X_train.columns[rfe.support_])"
      ],
      "execution_count": 86,
      "outputs": [
        {
          "output_type": "stream",
          "text": [
            "The variables considered in Logistic Regression are:  Index(['default', 'housing', 'loan', 'contact', 'poutcome'], dtype='object')\n"
          ],
          "name": "stdout"
        }
      ]
    },
    {
      "cell_type": "code",
      "metadata": {
        "colab": {
          "base_uri": "https://localhost:8080/"
        },
        "id": "VD59FJ-N9sS2",
        "outputId": "176ba37f-f903-4a19-f9d1-70b70397d3cf"
      },
      "source": [
        "print(\"The variables considered in Random Forest are: \", selected_feat)"
      ],
      "execution_count": 85,
      "outputs": [
        {
          "output_type": "stream",
          "text": [
            "The variables considered in Random Forest are:  Index(['month', 'poutcome', 'age', 'balance', 'day', 'duration', 'pdays'], dtype='object')\n"
          ],
          "name": "stdout"
        }
      ]
    },
    {
      "cell_type": "code",
      "metadata": {
        "id": "-yTE6Qs39sS3"
      },
      "source": [
        ""
      ],
      "execution_count": null,
      "outputs": []
    }
  ]
}